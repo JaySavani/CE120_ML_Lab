{
  "cells": [
    {
      "cell_type": "markdown",
      "metadata": {
        "id": "view-in-github",
        "colab_type": "text"
      },
      "source": [
        "<a href=\"https://colab.research.google.com/github/JaySavani/ML_Lab/blob/main/Lab_1.ipynb\" target=\"_parent\"><img src=\"https://colab.research.google.com/assets/colab-badge.svg\" alt=\"Open In Colab\"/></a>"
      ]
    },
    {
      "cell_type": "code",
      "execution_count": null,
      "metadata": {
        "colab": {
          "background_save": true
        },
        "id": "uRl3Q8-qhbSN",
        "outputId": "9acc0eba-c10d-4e5a-fc0f-eb1dce34bb4d"
      },
      "outputs": [
        {
          "ename": "KeyboardInterrupt",
          "evalue": "ignored",
          "output_type": "error",
          "traceback": [
            "\u001b[0;31m---------------------------------------------------------------------------\u001b[0m",
            "\u001b[0;31mKeyboardInterrupt\u001b[0m                         Traceback (most recent call last)",
            "\u001b[0;32m/usr/local/lib/python3.7/dist-packages/ipykernel/kernelbase.py\u001b[0m in \u001b[0;36m_input_request\u001b[0;34m(self, prompt, ident, parent, password)\u001b[0m\n\u001b[1;32m    728\u001b[0m             \u001b[0;32mtry\u001b[0m\u001b[0;34m:\u001b[0m\u001b[0;34m\u001b[0m\u001b[0;34m\u001b[0m\u001b[0m\n\u001b[0;32m--> 729\u001b[0;31m                 \u001b[0mident\u001b[0m\u001b[0;34m,\u001b[0m \u001b[0mreply\u001b[0m \u001b[0;34m=\u001b[0m \u001b[0mself\u001b[0m\u001b[0;34m.\u001b[0m\u001b[0msession\u001b[0m\u001b[0;34m.\u001b[0m\u001b[0mrecv\u001b[0m\u001b[0;34m(\u001b[0m\u001b[0mself\u001b[0m\u001b[0;34m.\u001b[0m\u001b[0mstdin_socket\u001b[0m\u001b[0;34m,\u001b[0m \u001b[0;36m0\u001b[0m\u001b[0;34m)\u001b[0m\u001b[0;34m\u001b[0m\u001b[0;34m\u001b[0m\u001b[0m\n\u001b[0m\u001b[1;32m    730\u001b[0m             \u001b[0;32mexcept\u001b[0m \u001b[0mException\u001b[0m\u001b[0;34m:\u001b[0m\u001b[0;34m\u001b[0m\u001b[0;34m\u001b[0m\u001b[0m\n",
            "\u001b[0;32m/usr/local/lib/python3.7/dist-packages/jupyter_client/session.py\u001b[0m in \u001b[0;36mrecv\u001b[0;34m(self, socket, mode, content, copy)\u001b[0m\n\u001b[1;32m    802\u001b[0m         \u001b[0;32mtry\u001b[0m\u001b[0;34m:\u001b[0m\u001b[0;34m\u001b[0m\u001b[0;34m\u001b[0m\u001b[0m\n\u001b[0;32m--> 803\u001b[0;31m             \u001b[0mmsg_list\u001b[0m \u001b[0;34m=\u001b[0m \u001b[0msocket\u001b[0m\u001b[0;34m.\u001b[0m\u001b[0mrecv_multipart\u001b[0m\u001b[0;34m(\u001b[0m\u001b[0mmode\u001b[0m\u001b[0;34m,\u001b[0m \u001b[0mcopy\u001b[0m\u001b[0;34m=\u001b[0m\u001b[0mcopy\u001b[0m\u001b[0;34m)\u001b[0m\u001b[0;34m\u001b[0m\u001b[0;34m\u001b[0m\u001b[0m\n\u001b[0m\u001b[1;32m    804\u001b[0m         \u001b[0;32mexcept\u001b[0m \u001b[0mzmq\u001b[0m\u001b[0;34m.\u001b[0m\u001b[0mZMQError\u001b[0m \u001b[0;32mas\u001b[0m \u001b[0me\u001b[0m\u001b[0;34m:\u001b[0m\u001b[0;34m\u001b[0m\u001b[0;34m\u001b[0m\u001b[0m\n",
            "\u001b[0;32m/usr/local/lib/python3.7/dist-packages/zmq/sugar/socket.py\u001b[0m in \u001b[0;36mrecv_multipart\u001b[0;34m(self, flags, copy, track)\u001b[0m\n\u001b[1;32m    726\u001b[0m         \"\"\"\n\u001b[0;32m--> 727\u001b[0;31m         \u001b[0mparts\u001b[0m \u001b[0;34m=\u001b[0m \u001b[0;34m[\u001b[0m\u001b[0mself\u001b[0m\u001b[0;34m.\u001b[0m\u001b[0mrecv\u001b[0m\u001b[0;34m(\u001b[0m\u001b[0mflags\u001b[0m\u001b[0;34m,\u001b[0m \u001b[0mcopy\u001b[0m\u001b[0;34m=\u001b[0m\u001b[0mcopy\u001b[0m\u001b[0;34m,\u001b[0m \u001b[0mtrack\u001b[0m\u001b[0;34m=\u001b[0m\u001b[0mtrack\u001b[0m\u001b[0;34m)\u001b[0m\u001b[0;34m]\u001b[0m\u001b[0;34m\u001b[0m\u001b[0;34m\u001b[0m\u001b[0m\n\u001b[0m\u001b[1;32m    728\u001b[0m         \u001b[0;31m# have first part already, only loop while more to receive\u001b[0m\u001b[0;34m\u001b[0m\u001b[0;34m\u001b[0m\u001b[0;34m\u001b[0m\u001b[0m\n",
            "\u001b[0;32mzmq/backend/cython/socket.pyx\u001b[0m in \u001b[0;36mzmq.backend.cython.socket.Socket.recv\u001b[0;34m()\u001b[0m\n",
            "\u001b[0;32mzmq/backend/cython/socket.pyx\u001b[0m in \u001b[0;36mzmq.backend.cython.socket.Socket.recv\u001b[0;34m()\u001b[0m\n",
            "\u001b[0;32mzmq/backend/cython/socket.pyx\u001b[0m in \u001b[0;36mzmq.backend.cython.socket._recv_copy\u001b[0;34m()\u001b[0m\n",
            "\u001b[0;32m/usr/local/lib/python3.7/dist-packages/zmq/backend/cython/checkrc.pxd\u001b[0m in \u001b[0;36mzmq.backend.cython.checkrc._check_rc\u001b[0;34m()\u001b[0m\n",
            "\u001b[0;31mKeyboardInterrupt\u001b[0m: ",
            "\nDuring handling of the above exception, another exception occurred:\n",
            "\u001b[0;31mKeyboardInterrupt\u001b[0m                         Traceback (most recent call last)",
            "\u001b[0;32m<ipython-input-1-d1b5500a6aca>\u001b[0m in \u001b[0;36m<module>\u001b[0;34m()\u001b[0m\n\u001b[1;32m      1\u001b[0m \u001b[0;31m#[1].Write a program which accepts a number from user and display that number if and only if it is positive value.\u001b[0m\u001b[0;34m\u001b[0m\u001b[0;34m\u001b[0m\u001b[0;34m\u001b[0m\u001b[0m\n\u001b[1;32m      2\u001b[0m \u001b[0;34m\u001b[0m\u001b[0m\n\u001b[0;32m----> 3\u001b[0;31m \u001b[0mn\u001b[0m \u001b[0;34m=\u001b[0m \u001b[0minput\u001b[0m\u001b[0;34m(\u001b[0m\u001b[0;34m\"Enter your number \"\u001b[0m\u001b[0;34m)\u001b[0m\u001b[0;34m\u001b[0m\u001b[0;34m\u001b[0m\u001b[0m\n\u001b[0m\u001b[1;32m      4\u001b[0m \u001b[0;32mif\u001b[0m \u001b[0mint\u001b[0m \u001b[0;34m(\u001b[0m\u001b[0mn\u001b[0m\u001b[0;34m)\u001b[0m \u001b[0;34m>\u001b[0m \u001b[0;36m0\u001b[0m \u001b[0;34m:\u001b[0m\u001b[0;34m\u001b[0m\u001b[0;34m\u001b[0m\u001b[0m\n\u001b[1;32m      5\u001b[0m   \u001b[0mprint\u001b[0m\u001b[0;34m(\u001b[0m\u001b[0mn\u001b[0m\u001b[0;34m)\u001b[0m\u001b[0;34m\u001b[0m\u001b[0;34m\u001b[0m\u001b[0m\n",
            "\u001b[0;32m/usr/local/lib/python3.7/dist-packages/ipykernel/kernelbase.py\u001b[0m in \u001b[0;36mraw_input\u001b[0;34m(self, prompt)\u001b[0m\n\u001b[1;32m    702\u001b[0m             \u001b[0mself\u001b[0m\u001b[0;34m.\u001b[0m\u001b[0m_parent_ident\u001b[0m\u001b[0;34m,\u001b[0m\u001b[0;34m\u001b[0m\u001b[0;34m\u001b[0m\u001b[0m\n\u001b[1;32m    703\u001b[0m             \u001b[0mself\u001b[0m\u001b[0;34m.\u001b[0m\u001b[0m_parent_header\u001b[0m\u001b[0;34m,\u001b[0m\u001b[0;34m\u001b[0m\u001b[0;34m\u001b[0m\u001b[0m\n\u001b[0;32m--> 704\u001b[0;31m             \u001b[0mpassword\u001b[0m\u001b[0;34m=\u001b[0m\u001b[0;32mFalse\u001b[0m\u001b[0;34m,\u001b[0m\u001b[0;34m\u001b[0m\u001b[0;34m\u001b[0m\u001b[0m\n\u001b[0m\u001b[1;32m    705\u001b[0m         )\n\u001b[1;32m    706\u001b[0m \u001b[0;34m\u001b[0m\u001b[0m\n",
            "\u001b[0;32m/usr/local/lib/python3.7/dist-packages/ipykernel/kernelbase.py\u001b[0m in \u001b[0;36m_input_request\u001b[0;34m(self, prompt, ident, parent, password)\u001b[0m\n\u001b[1;32m    732\u001b[0m             \u001b[0;32mexcept\u001b[0m \u001b[0mKeyboardInterrupt\u001b[0m\u001b[0;34m:\u001b[0m\u001b[0;34m\u001b[0m\u001b[0;34m\u001b[0m\u001b[0m\n\u001b[1;32m    733\u001b[0m                 \u001b[0;31m# re-raise KeyboardInterrupt, to truncate traceback\u001b[0m\u001b[0;34m\u001b[0m\u001b[0;34m\u001b[0m\u001b[0;34m\u001b[0m\u001b[0m\n\u001b[0;32m--> 734\u001b[0;31m                 \u001b[0;32mraise\u001b[0m \u001b[0mKeyboardInterrupt\u001b[0m\u001b[0;34m\u001b[0m\u001b[0;34m\u001b[0m\u001b[0m\n\u001b[0m\u001b[1;32m    735\u001b[0m             \u001b[0;32melse\u001b[0m\u001b[0;34m:\u001b[0m\u001b[0;34m\u001b[0m\u001b[0;34m\u001b[0m\u001b[0m\n\u001b[1;32m    736\u001b[0m                 \u001b[0;32mbreak\u001b[0m\u001b[0;34m\u001b[0m\u001b[0;34m\u001b[0m\u001b[0m\n",
            "\u001b[0;31mKeyboardInterrupt\u001b[0m: "
          ]
        }
      ],
      "source": [
        "#[1].Write a program which accepts a number from user and display that number if and only if it is positive value.\n",
        "\n",
        "n = input(\"Enter your number \")\n",
        "if int (n) > 0 :\n",
        "  print(n)\n",
        "\n",
        "#include <bits/stdc++.h>\n",
        "using namespace std;\n",
        "\n",
        "int GCD(int a,int b)\n",
        "{\n",
        "    if(a<b) return GCD(b,a);\n",
        "    else if(a%b==0)\n",
        "    {\n",
        "        return b;\n",
        "    }\n",
        "    else\n",
        "    {\n",
        "        return GCD(b,a%b);\n",
        "    }\n",
        "}\n",
        "\n",
        "int power(int a,unsigned int n,int p)\n",
        "{\n",
        "    int res = 1;\n",
        "    a = a%p;\n",
        "    while(n>0)\n",
        "    {\n",
        "        if(n&1) res = (res * a) % p;\n",
        "        n=n>>1;\n",
        "        a=(a*a)%p;\n",
        "    }\n",
        "    return res;\n",
        "}\n",
        "bool isPrime(unsigned int n,int k)\n",
        "{\n",
        "    if(n<=1 || n==4) return false;\n",
        "    if(n<=3) return true;\n",
        "    while(k>0)\n",
        "    {\n",
        "        int a=2+rand()%(n-4);\n",
        "        if(GCD(n,a)!=1) return false;\n",
        "        if(power(a,n-1,n)!=1) return false;\n",
        "        k--;\n",
        "    }\n",
        "    return true;\n",
        "}\n",
        "\n",
        "int main()\n",
        "{\n",
        "    unsigned int n;\n",
        "    int k = 100;\n",
        "    cout << \"Enter number for prime test:\" << endl;\n",
        "    cin >> n;\n",
        "    isPrime(n,k)? cout << \"true\\n\" : cout << \"false\\n\";\n",
        "    // cout << power(2,6,3);\n",
        "    return 0;\n",
        "    }\n",
        "\n",
        "\n",
        "\n",
        "\n",
        "// naive\n",
        "    #include <bits/stdc++.h>\n",
        "using namespace std;\n",
        "\n",
        "void Naive(char* pat, char* txt)\n",
        "{\n",
        "\tint M = strlen(pat);\n",
        "\tint N = strlen(txt);\n",
        "\n",
        "\tfor (int i = 0; i <= N - M; i++) \n",
        "\t{\n",
        "\t    int flag=1;\n",
        "\t\tfor (int j = 0; j < M; j++) \n",
        "\t\t{\n",
        "\t\t\tif (txt[i + j] != pat[j])\n",
        "\t\t\t{\n",
        "\t\t\t    flag=0;\n",
        "\t\t\t    break;\n",
        "\t\t\t}\n",
        "\t\t}\n",
        "\t\t if (flag==1)\n",
        "\t\t {\n",
        "\t\t     cout << \"Pattern Match at index \"<< i << endl;\n",
        "\t\t }\n",
        "\t}\n",
        "}\n",
        "\n",
        "int main()\n",
        "{\n",
        "\tchar txt[] = \"asdabgjbghdbfgbsubghbg\";\n",
        "\tchar pat[] = \"bg\";\n",
        "\tNaive(pat, txt);\n",
        "\treturn 0;\n",
        "}\n",
        "\n"
      ]
    },
    {
      "cell_type": "code",
      "execution_count": null,
      "metadata": {
        "colab": {
          "base_uri": "https://localhost:8080/"
        },
        "id": "iUZD5Tb6tcyy",
        "outputId": "acc3fdde-d2f5-4475-dfb6-dbb5ef3ac4b8"
      },
      "outputs": [
        {
          "name": "stdout",
          "output_type": "stream",
          "text": [
            "Enter avrage mark 48\n",
            "Congratulation!!! You pass this exam successfully\n"
          ]
        }
      ],
      "source": [
        "#[2].Write a program which accepts average marks of student and if average is greater\n",
        "# then it will display a message “Congratulation!!! You pass this exam successfully” els\n",
        "# will display “Sorry!!! Better luck next time”.\n",
        "\n",
        "n = input(\"Enter avrage mark \")\n",
        "if float (n) > 40 :\n",
        "  print(\"Congratulation!!! You pass this exam successfully\")\n",
        "else :\n",
        "  print(\"Sorry!!! Better luck next time\")  "
      ]
    },
    {
      "cell_type": "code",
      "execution_count": null,
      "metadata": {
        "id": "mfJpX1vJuIX5"
      },
      "outputs": [],
      "source": [
        "#[3].Write a program which accepts marks of five subject and based on average of those m\n",
        "# will display appropriate grade.\n",
        "\n",
        "# sub = list(input(\"Enter 1st subject marks\"), input(\"Enter 2nd subject marks\"), input(\"Enter 3st subject marks\"),input(\"Enter 4st subject marks\"),input(\"Enter 5st subject marks\")\n",
        "# sum = 0\n",
        "# for i in range(0,5) :\n",
        "# sum += int(input(\"Enter subject marks \"))\n",
        "# avg = int(sum/5)\n",
        "\n",
        "# or\n",
        "\n",
        "subList = []\n",
        "for i in range(0,5) :\n",
        "  n = input(\"Enter subject marks \")\n",
        "  subList.append(int(n))\n",
        "avg = sum(subList)/5\n",
        "if(avg>90):\n",
        "  print('A1')\n",
        "elif(avg>=80):\n",
        "  print('A2')\n",
        "elif(avg>=70):\n",
        "  print('B1')\n",
        "elif(avg>=60):\n",
        "  print('B2')\n",
        "elif(avg>=50):\n",
        "  print('C')\n",
        "else:\n",
        "  print('D')\n",
        "\n",
        "\n"
      ]
    },
    {
      "cell_type": "code",
      "execution_count": null,
      "metadata": {
        "colab": {
          "base_uri": "https://localhost:8080/"
        },
        "id": "iJV8fokVZiWf",
        "outputId": "5712eb16-59cb-41d2-a121-3fced7632825"
      },
      "outputs": [
        {
          "name": "stdout",
          "output_type": "stream",
          "text": [
            "Enter number 12\n",
            "Enter number 81\n",
            "Enter number 54\n",
            "largest number81\n"
          ]
        }
      ],
      "source": [
        "# [4].Write a program to find largest number out of three numbers entered by user.\n",
        "\n",
        "a = int(input(\"Enter number \"))\n",
        "b = int(input(\"Enter number \"))\n",
        "c = int(input(\"Enter number \"))\n",
        "if(a>b):\n",
        "  if(a>c):\n",
        "    print(\"largest number is :\" + str(a))\n",
        "  else:\n",
        "    print(\"largest number is :\" + str(c))\n",
        "else:\n",
        "  if(b>c):\n",
        "    print(\"largest number is :\" + str(b))\n",
        "  else:\n",
        "    print(\"largest number is :\" + str(c))"
      ]
    },
    {
      "cell_type": "code",
      "execution_count": null,
      "metadata": {
        "colab": {
          "base_uri": "https://localhost:8080/"
        },
        "id": "vcYeLIOHcuYr",
        "outputId": "c3ff5d8d-4a08-496d-e6ce-6c5c29df11ed"
      },
      "outputs": [
        {
          "name": "stdout",
          "output_type": "stream",
          "text": [
            "-5 is negative number\n",
            "5 is odd number\n"
          ]
        }
      ],
      "source": [
        "# [5].Check the output of following code and try to justify the output:\n",
        "\n",
        "# i).\n",
        "\n",
        "a=-5\n",
        "if a>0:\n",
        "  if (a%2==0) :\n",
        "    print(str(a) + \" is positive even number\")\n",
        "else:\n",
        "    print(str(a) + \" is negative number\")\n",
        "\n",
        "# ii).\n",
        "\n",
        "a=5\n",
        "if a>0:\n",
        "  if (a%2==0) :\n",
        "    print(str(a) + \" is positive even number\")\n",
        "  else:\n",
        "    print(str(a) + \" is odd number\")"
      ]
    },
    {
      "cell_type": "code",
      "execution_count": null,
      "metadata": {
        "colab": {
          "base_uri": "https://localhost:8080/"
        },
        "id": "Zk0heOzKFRqW",
        "outputId": "3e4f20f0-094e-4373-9f89-fe03be2a0b45"
      },
      "outputs": [
        {
          "name": "stdout",
          "output_type": "stream",
          "text": [
            "Enter the input 1111\n",
            "1111 23 0b10001010111\n",
            "Enter the input 3333\n",
            "3333 5 0b110100000101\n",
            "Enter the input 1235\n",
            "1235 19 0b10011010011\n",
            "Enter the input 2378\n",
            "2378 10 0b100101001010\n",
            "Enter the input 1212\n",
            "1212 60 0b10010111100\n",
            "Enter the input 1456\n",
            "1456 48 0b10110110000\n",
            "Enter the input 2134\n",
            "2134 22 0b100001010110\n",
            "Enter the input 2345\n",
            "2345 41 0b100100101001\n",
            "Enter the input 1111\n",
            "1111 23 0b10001010111\n",
            "Enter the input 8231\n",
            "8231 39 0b10000000100111\n",
            "Enter the input 2222\n",
            "2222 46 0b100010101110\n",
            "Enter the input 9999\n",
            "9999 15 0b10011100001111\n"
          ]
        }
      ],
      "source": [
        "# For the below elements, print binary of modulo 64 (remainder) result.(Hint: Use function bin and operator %).\n",
        "# 1111,3333,1235,2378,1212,1456,2134,2345,1111,8231,2222,9999\n",
        "\n",
        "def decimalToBinary(n):\n",
        "    return bin(n)\n",
        "\n",
        "for i in range(0, 12) :\n",
        "  n = int(input(\"Enter the input \"))\n",
        "  print(n, n%64,decimalToBinary(n))\n",
        "\n"
      ]
    },
    {
      "cell_type": "code",
      "execution_count": null,
      "metadata": {
        "colab": {
          "base_uri": "https://localhost:8080/"
        },
        "id": "3Jif4LWYLxAU",
        "outputId": "c121a43f-1432-4d89-cdea-2ee2412e0e03"
      },
      "outputs": [
        {
          "name": "stdout",
          "output_type": "stream",
          "text": [
            "Enter the number 5\n",
            "5 is prime number\n"
          ]
        }
      ],
      "source": [
        "# Write a program to check whether entered number is prime or not.\n",
        "\n",
        "n = int(input(\"Enter the number \"));\n",
        "isPrime = 1\n",
        "\n",
        "for i in range(2, int(n/2)+1) :\n",
        "  if (n%i==0) :\n",
        "    isPrime=0\n",
        "    print(str(n)+\" is not prime\")\n",
        "    \n",
        "if isPrime:\n",
        "    print(str(n)+\" is prime number\")"
      ]
    },
    {
      "cell_type": "code",
      "execution_count": null,
      "metadata": {
        "id": "jGb5-7YJTbDs"
      },
      "outputs": [],
      "source": [
        "# Write a program to display armstrong numbers between 1 to n.(where value of n will be provided by user).\n",
        "\n",
        "n = int(input(\"Enter the number \"))\n",
        "  \n",
        "for i in range(1, n):\n",
        "  order=len(str(i))\n",
        "  sum=0\n",
        "  temp = i\n",
        "while temp>0 :\n",
        "  digit = temp%10\n",
        "  sum+=digit**order\n",
        "  temp //=10\n",
        "if i==sum :\n",
        "  print(i);\n"
      ]
    }
  ],
  "metadata": {
    "colab": {
      "provenance": [],
      "authorship_tag": "ABX9TyP1AHfPWKT0ohdUhCrk5DBU",
      "include_colab_link": true
    },
    "kernelspec": {
      "display_name": "Python 3",
      "name": "python3"
    },
    "language_info": {
      "name": "python"
    }
  },
  "nbformat": 4,
  "nbformat_minor": 0
}