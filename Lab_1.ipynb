{
  "nbformat": 4,
  "nbformat_minor": 0,
  "metadata": {
    "colab": {
      "provenance": [],
      "include_colab_link": true
    },
    "kernelspec": {
      "name": "python3",
      "display_name": "Python 3"
    },
    "language_info": {
      "name": "python"
    }
  },
  "cells": [
    {
      "cell_type": "markdown",
      "metadata": {
        "id": "view-in-github",
        "colab_type": "text"
      },
      "source": [
        "<a href=\"https://colab.research.google.com/github/JaySavani/ML_Lab/blob/main/Lab_1.ipynb\" target=\"_parent\"><img src=\"https://colab.research.google.com/assets/colab-badge.svg\" alt=\"Open In Colab\"/></a>"
      ]
    },
    {
      "cell_type": "code",
      "execution_count": null,
      "metadata": {
        "id": "tI0UsfshjMTY",
        "outputId": "fbd22662-6167-4350-9b4b-fb297f71716c",
        "colab": {
          "base_uri": "https://localhost:8080/"
        }
      },
      "outputs": [
        {
          "output_type": "stream",
          "name": "stdout",
          "text": [
            "[[ 210  225  240  255]\n",
            " [ 480  520  560  600]\n",
            " [ 750  815  880  945]\n",
            " [1020 1110 1200 1290]]\n",
            "[[  1   4   9  16  25]\n",
            " [ 36  49  64  81 100]\n",
            " [121 144 169 196 225]\n",
            " [256 289 324 361 400]]\n",
            "10.5\n",
            "12.5\n",
            "[[ 1  6 11 16]\n",
            " [ 2  7 12 17]\n",
            " [ 3  8 13 18]\n",
            " [ 4  9 14 19]\n",
            " [ 5 10 15 20]]\n",
            "95.99999999999999\n",
            "[2 9 8]\n"
          ]
        }
      ],
      "source": [
        "# Create Two numpy array of size 4 X 5 and 5 X 4. Randomly Initalize that array\n",
        "\n",
        "import numpy as np\n",
        "\n",
        "arr4x5 = np.array([[1, 2, 3, 4, 5],[6, 7, 8, 9, 10],[11, 12, 13, 14, 15],[16, 17, 18, 19, 20]]) # Define a numpy array\n",
        "arr5x4 = np.array([[1, 2, 3, 4],[6, 7, 8, 9],[11, 12, 13, 14],[16, 17, 18, 19],[20, 21, 22, 23]])\n",
        "\n",
        "# Perform matrix multiplication\n",
        "print(arr4x5.dot(arr5x4))\n",
        "\n",
        "# Perform elementwise matrix multiplication\n",
        "print(arr4x5*arr4x5)\n",
        "\n",
        "# Find mean, median of the first matrix.\n",
        "mean = np.mean(arr4x5)\n",
        "median = np.median(arr5x4)\n",
        "print(mean)\n",
        "print(median)\n",
        "\n",
        "# Get the transpose of that Matrix that you created. Create a square matrix and find its deter-minant.\n",
        "\n",
        "print(arr4x5.T)\n",
        "sqmatrix = np.array([[6,2,3],[8,9,6],[10,8,9]])\n",
        "det = np.linalg.det(sqmatrix)\n",
        "print(det)\n",
        "\n",
        "# Obtain each row in the second column of the first array.\n",
        "\n",
        "print(sqmatrix.T[1])"
      ]
    },
    {
      "cell_type": "code",
      "source": [
        "import pandas as pd\n",
        "import numpy as np\n",
        "\n",
        "# Convert Numeric entries(columns) of mtcars.csv to Mean Centered Version\n",
        "\n",
        "df = pd.read_csv('/content/drive/MyDrive/Colab Notebooks/mtcars.csv')\n",
        "\n",
        "# print(df)\n",
        "array = df.to_numpy()\n",
        "newarray = array.T[1:].T\n",
        "\n",
        "nparrayCentered = newarray - np.mean(newarray, axis=0)\n",
        "print(nparrayCentered)\n"
      ],
      "metadata": {
        "id": "B2RxPWfjzu0H",
        "outputId": "481e4791-da34-4e8e-f22e-b96f2693e2f5",
        "colab": {
          "base_uri": "https://localhost:8080/"
        }
      },
      "execution_count": null,
      "outputs": [
        {
          "output_type": "stream",
          "name": "stdout",
          "text": [
            "[[0.9093750000000043 -0.1875 -70.72187500000004 -36.6875\n",
            "  0.30343749999999936 -0.5972499999999994 -1.3887500000000017 -0.4375\n",
            "  0.59375 0.3125 1.1875]\n",
            " [0.9093750000000043 -0.1875 -70.72187500000004 -36.6875\n",
            "  0.30343749999999936 -0.3422499999999995 -0.828750000000003 -0.4375\n",
            "  0.59375 0.3125 1.1875]\n",
            " [2.709375000000005 -2.1875 -122.72187500000004 -53.6875\n",
            "  0.25343749999999954 -0.8972499999999997 0.7612499999999969 0.5625\n",
            "  0.59375 0.3125 -1.8125]\n",
            " [1.3093750000000028 -0.1875 27.27812499999996 -36.6875\n",
            "  -0.5165625000000005 -0.002249999999999641 1.5912499999999987 0.5625\n",
            "  -0.40625 -0.6875 -1.8125]\n",
            " [-1.3906249999999964 1.8125 129.27812499999996 28.3125\n",
            "  -0.44656250000000064 0.22275000000000045 -0.828750000000003 -0.4375\n",
            "  -0.40625 -0.6875 -0.8125]\n",
            " [-1.9906249999999943 -0.1875 -5.72187500000004 -41.6875\n",
            "  -0.8365625000000008 0.24275000000000047 2.3712499999999963 0.5625\n",
            "  -0.40625 -0.6875 -1.8125]\n",
            " [-5.790624999999995 1.8125 129.27812499999996 98.3125\n",
            "  -0.3865625000000006 0.35275000000000034 -2.0087500000000027 -0.4375\n",
            "  -0.40625 -0.6875 1.1875]\n",
            " [4.309375000000003 -2.1875 -84.02187500000005 -84.6875\n",
            "  0.0934374999999994 -0.027249999999999552 2.1512499999999974 0.5625\n",
            "  -0.40625 0.3125 -0.8125]\n",
            " [2.709375000000005 -2.1875 -89.92187500000003 -51.6875\n",
            "  0.3234374999999994 -0.06724999999999959 5.051249999999996 0.5625\n",
            "  -0.40625 0.3125 -0.8125]\n",
            " [-0.8906249999999964 -0.1875 -63.121875000000045 -23.6875\n",
            "  0.3234374999999994 0.22275000000000045 0.45124999999999815 0.5625\n",
            "  -0.40625 0.3125 1.1875]\n",
            " [-2.290624999999995 -0.1875 -63.121875000000045 -23.6875\n",
            "  0.3234374999999994 0.22275000000000045 1.051249999999996 0.5625\n",
            "  -0.40625 0.3125 1.1875]\n",
            " [-3.690624999999997 1.8125 45.07812499999997 33.3125 -0.5265625000000007\n",
            "  0.8527500000000008 -0.448750000000004 -0.4375 -0.40625 -0.6875 0.1875]\n",
            " [-2.790624999999995 1.8125 45.07812499999997 33.3125 -0.5265625000000007\n",
            "  0.5127500000000005 -0.24875000000000114 -0.4375 -0.40625 -0.6875 0.1875]\n",
            " [-4.8906249999999964 1.8125 45.07812499999997 33.3125\n",
            "  -0.5265625000000007 0.5627500000000003 0.15124999999999744 -0.4375\n",
            "  -0.40625 -0.6875 0.1875]\n",
            " [-9.690624999999995 1.8125 241.27812499999996 58.3125\n",
            "  -0.6665625000000004 2.0327500000000005 0.13124999999999787 -0.4375\n",
            "  -0.40625 -0.6875 1.1875]\n",
            " [-9.690624999999995 1.8125 229.27812499999996 68.3125\n",
            "  -0.5965625000000006 2.206750000000001 -0.028750000000002274 -0.4375\n",
            "  -0.40625 -0.6875 1.1875]\n",
            " [-5.3906249999999964 1.8125 209.27812499999996 83.3125\n",
            "  -0.36656250000000057 2.1277500000000003 -0.42875000000000085 -0.4375\n",
            "  -0.40625 -0.6875 1.1875]\n",
            " [12.309375000000003 -2.1875 -152.02187500000002 -80.6875\n",
            "  0.4834374999999995 -1.0172499999999993 1.6212499999999963 0.5625\n",
            "  0.59375 0.3125 -1.8125]\n",
            " [10.309375000000003 -2.1875 -155.02187500000002 -94.6875\n",
            "  1.3334374999999992 -1.6022499999999995 0.671249999999997 0.5625 0.59375\n",
            "  0.3125 -0.8125]\n",
            " [13.809375000000003 -2.1875 -159.62187500000005 -81.6875\n",
            "  0.6234374999999992 -1.3822499999999995 2.051249999999996 0.5625 0.59375\n",
            "  0.3125 -1.8125]\n",
            " [1.4093750000000043 -2.1875 -110.62187500000005 -49.6875\n",
            "  0.10343749999999963 -0.7522499999999996 2.161249999999999 0.5625\n",
            "  -0.40625 -0.6875 -1.8125]\n",
            " [-4.590624999999996 1.8125 87.27812499999996 3.3125 -0.8365625000000008\n",
            "  0.3027500000000005 -0.9787500000000016 -0.4375 -0.40625 -0.6875 -0.8125]\n",
            " [-4.8906249999999964 1.8125 73.27812499999996 3.3125\n",
            "  -0.44656250000000064 0.21775000000000055 -0.5487500000000018 -0.4375\n",
            "  -0.40625 -0.6875 -0.8125]\n",
            " [-6.790624999999995 1.8125 119.27812499999996 98.3125\n",
            "  0.13343749999999943 0.6227500000000004 -2.4387500000000024 -0.4375\n",
            "  -0.40625 -0.6875 1.1875]\n",
            " [-0.8906249999999964 1.8125 169.27812499999996 28.3125\n",
            "  -0.5165625000000005 0.6277500000000007 -0.7987500000000018 -0.4375\n",
            "  -0.40625 -0.6875 -0.8125]\n",
            " [7.209375000000005 -2.1875 -151.72187500000004 -80.6875\n",
            "  0.4834374999999995 -1.2822499999999994 1.051249999999996 0.5625 0.59375\n",
            "  0.3125 -1.8125]\n",
            " [5.909375000000004 -2.1875 -110.42187500000004 -55.6875\n",
            "  0.8334374999999992 -1.0772499999999994 -1.1487500000000033 -0.4375\n",
            "  0.59375 1.3125 -0.8125]\n",
            " [10.309375000000003 -2.1875 -135.62187500000005 -33.6875\n",
            "  0.17343749999999947 -1.7042499999999996 -0.948750000000004 0.5625\n",
            "  0.59375 1.3125 -0.8125]\n",
            " [-4.290624999999995 1.8125 120.27812499999996 117.3125\n",
            "  0.6234374999999992 -0.04724999999999957 -3.3487500000000026 -0.4375\n",
            "  0.59375 1.3125 1.1875]\n",
            " [-0.39062499999999645 -0.1875 -85.72187500000004 28.3125\n",
            "  0.023437499999999556 -0.4472499999999995 -2.3487500000000026 -0.4375\n",
            "  0.59375 1.3125 3.1875]\n",
            " [-5.090624999999996 1.8125 70.27812499999996 188.3125\n",
            "  -0.056562500000000515 0.35275000000000034 -3.248750000000003 -0.4375\n",
            "  0.59375 1.3125 5.1875]\n",
            " [1.3093750000000028 -2.1875 -109.72187500000004 -37.6875\n",
            "  0.5134374999999998 -0.4372499999999997 0.7512499999999989 0.5625\n",
            "  0.59375 0.3125 -0.8125]]\n"
          ]
        }
      ]
    },
    {
      "cell_type": "code",
      "source": [
        "# 1)Draw Scatter Plot between SepalLengthCm and SepalWidthCm for “Iris.csv” file with proper labelling.   \n",
        "\n",
        "data = pd.read_csv('/content/drive/MyDrive/Colab Notebooks/iris.csv')\n",
        "\n",
        "plt.scatter(data['sepal.length'],data['sepal.width'])\n",
        "plt.show()"
      ],
      "metadata": {
        "id": "OHhDbJJb4Hyn",
        "outputId": "24819819-ef80-4aa9-86d8-fdef5053876b",
        "colab": {
          "base_uri": "https://localhost:8080/",
          "height": 268
        }
      },
      "execution_count": null,
      "outputs": [
        {
          "output_type": "display_data",
          "data": {
            "text/plain": [
              "<Figure size 432x288 with 1 Axes>"
            ],
            "image/png": "[encoded data removed]"
          },
          "metadata": {
            "needs_background": "light"
          }
        }
      ]
    },
    {
      "cell_type": "code",
      "source": [
        "# 2) Draw Histogram of SepalLengthCm with proper labelling. \n",
        "\n",
        "plt.hist(data['sepal.length'],label=\"Sepal Length\",  bins=3)\n",
        "plt.show()"
      ],
      "metadata": {
        "id": "ymtFG7d_E-RY",
        "outputId": "ba061973-1199-424b-d0e2-1a9c336e62ac",
        "colab": {
          "base_uri": "https://localhost:8080/",
          "height": 265
        }
      },
      "execution_count": null,
      "outputs": [
        {
          "output_type": "display_data",
          "data": {
            "text/plain": [
              "<Figure size 432x288 with 1 Axes>"
            ],
            "image/png": "[encoded data removed]"
          },
          "metadata": {
            "needs_background": "light"
          }
        }
      ]
    },
    {
      "cell_type": "code",
      "source": [
        "# 3) Plot bar chart of Species. \n",
        "# print(data['variety'])\n",
        "data.head()\n",
        "dlf = pd.DataFrame(data)\n",
        "id = []\n",
        "\n",
        "for  i in range(150):\n",
        "  id.append(i)\n",
        "plt.bar(dlf['variety'],id)\n",
        "\n",
        "plt.xlabel(\"Species\")\n",
        "plt.ylabel(\"ID\")\n",
        "plt.show()"
      ],
      "metadata": {
        "id": "B_RjCSNGFCYw",
        "outputId": "04a1df23-5b9a-4c5e-ad88-9dd3851b2bf5",
        "colab": {
          "base_uri": "https://localhost:8080/",
          "height": 279
        }
      },
      "execution_count": null,
      "outputs": [
        {
          "output_type": "display_data",
          "data": {
            "text/plain": [
              "<Figure size 432x288 with 1 Axes>"
            ],
            "image/png": "[encoded data removed]"
          },
          "metadata": {
            "needs_background": "light"
          }
        }
      ]
    },
    {
      "cell_type": "code",
      "source": [
        "# 4) Count total null values for each column in this dataset. \n",
        "\n",
        "print(\"Total Null Data:\",data.isnull().sum())"
      ],
      "metadata": {
        "colab": {
          "base_uri": "https://localhost:8080/"
        },
        "id": "NZTAjSkKFDAF",
        "outputId": "f24d717a-8735-4457-d4a1-113fed83eaba"
      },
      "execution_count": null,
      "outputs": [
        {
          "output_type": "stream",
          "name": "stdout",
          "text": [
            "Total Null Data: sepal.length    0\n",
            "sepal.width     0\n",
            "petal.length    0\n",
            "petal.width     0\n",
            "variety         0\n",
            "dtype: int64\n"
          ]
        }
      ]
    },
    {
      "cell_type": "code",
      "source": [
        "# 5) i) Print first 5 rows of SepalLengthCm. \n",
        "\n",
        "data.head()\n",
        "\n",
        "#    ii) Print from 5th row and onwards and entire column of Iris.csv dataset.\n",
        "\n",
        "print(data[5:])"
      ],
      "metadata": {
        "id": "1k6tUWLVFjC1",
        "outputId": "f5a9056c-de8d-43a6-fcc0-a6b77d4e17ad",
        "colab": {
          "base_uri": "https://localhost:8080/"
        }
      },
      "execution_count": null,
      "outputs": [
        {
          "output_type": "stream",
          "name": "stdout",
          "text": [
            "     sepal.length  sepal.width  petal.length  petal.width    variety\n",
            "5             5.4          3.9           1.7          0.4     Setosa\n",
            "6             4.6          3.4           1.4          0.3     Setosa\n",
            "7             5.0          3.4           1.5          0.2     Setosa\n",
            "8             4.4          2.9           1.4          0.2     Setosa\n",
            "9             4.9          3.1           1.5          0.1     Setosa\n",
            "..            ...          ...           ...          ...        ...\n",
            "145           6.7          3.0           5.2          2.3  Virginica\n",
            "146           6.3          2.5           5.0          1.9  Virginica\n",
            "147           6.5          3.0           5.2          2.0  Virginica\n",
            "148           6.2          3.4           5.4          2.3  Virginica\n",
            "149           5.9          3.0           5.1          1.8  Virginica\n",
            "\n",
            "[145 rows x 5 columns]\n"
          ]
        }
      ]
    },
    {
      "cell_type": "code",
      "source": [
        "import pandas as pd\n",
        "import numpy as np\n",
        "import matplotlib.pyplot as plt\n",
        "main_data = pd.read_csv('/content/drive/MyDrive/Colab Notebooks/iris.csv')\n",
        "print(main_data.head())\n",
        "plt.scatter(main_data[\"sepal.length\"], main_data[\"sepal.width\"])\n",
        "plt.show()\n",
        "\n",
        "plt.hist(main_data[\"sepal.length\"],bins=5)\n",
        "plt.show()\n",
        "\n",
        "fig_size = plt.figure(figsize=(7, 5))\n",
        "plt.bar(main_data[\"sepal.length\"], main_data[\"sepal.width\"], color=\"green\")\n",
        "plt.xlabel(\"sepal.length\")\n",
        "plt.ylabel(\"sepal.width\")\n",
        "plt.title(\"Bar chart of sepal.length vs sepal.width\")\n",
        "plt.show()\n",
        "\n",
        "print(\"Total Null Data:\",main_data.isnull().sum())\n",
        "\n",
        "display(main_data.iloc[1 : 5, 1 : 2])\n",
        "\n",
        "display(main_data.iloc[5 : , 1 : ])"
      ],
      "metadata": {
        "id": "bhDaH_iWXpL2",
        "outputId": "3441f014-115f-446b-e27d-9bcc5a2c9751",
        "colab": {
          "base_uri": "https://localhost:8080/",
          "height": 1000
        }
      },
      "execution_count": null,
      "outputs": [
        {
          "output_type": "stream",
          "name": "stdout",
          "text": [
            "   sepal.length  sepal.width  petal.length  petal.width variety\n",
            "0           5.1          3.5           1.4          0.2  Setosa\n",
            "1           4.9          3.0           1.4          0.2  Setosa\n",
            "2           4.7          3.2           1.3          0.2  Setosa\n",
            "3           4.6          3.1           1.5          0.2  Setosa\n",
            "4           5.0          3.6           1.4          0.2  Setosa\n"
          ]
        },
        {
          "output_type": "display_data",
          "data": {
            "text/plain": [
              "<Figure size 432x288 with 1 Axes>"
            ],
            "image/png": "[encoded data removed]"
          },
          "metadata": {
            "needs_background": "light"
          }
        },
        {
          "output_type": "display_data",
          "data": {
            "text/plain": [
              "<Figure size 432x288 with 1 Axes>"
            ],
            "image/png": "[encoded data removed]"
          },
          "metadata": {
            "needs_background": "light"
          }
        },
        {
          "output_type": "display_data",
          "data": {
            "text/plain": [
              "<Figure size 504x360 with 1 Axes>"
            ],
            "image/png": "[encoded data removed]"
          },
          "metadata": {
            "needs_background": "light"
          }
        },
        {
          "output_type": "stream",
          "name": "stdout",
          "text": [
            "Total Null Data: sepal.length    0\n",
            "sepal.width     0\n",
            "petal.length    0\n",
            "petal.width     0\n",
            "variety         0\n",
            "dtype: int64\n"
          ]
        },
        {
          "output_type": "display_data",
          "data": {
            "text/plain": [
              "   sepal.width\n",
              "1          3.0\n",
              "2          3.2\n",
              "3          3.1\n",
              "4          3.6"
            ],
            "text/html": [
              "\n",
              "  <div id=\"df-b709c095-7adc-4ca6-8be2-456380108cfd\">\n",
              "    <div class=\"colab-df-container\">\n",
              "      <div>\n",
              "<style scoped>\n",
              "    .dataframe tbody tr th:only-of-type {\n",
              "        vertical-align: middle;\n",
              "    }\n",
              "\n",
              "    .dataframe tbody tr th {\n",
              "        vertical-align: top;\n",
              "    }\n",
              "\n",
              "    .dataframe thead th {\n",
              "        text-align: right;\n",
              "    }\n",
              "</style>\n",
              "<table border=\"1\" class=\"dataframe\">\n",
              "  <thead>\n",
              "    <tr style=\"text-align: right;\">\n",
              "      <th></th>\n",
              "      <th>sepal.width</th>\n",
              "    </tr>\n",
              "  </thead>\n",
              "  <tbody>\n",
              "    <tr>\n",
              "      <th>1</th>\n",
              "      <td>3.0</td>\n",
              "    </tr>\n",
              "    <tr>\n",
              "      <th>2</th>\n",
              "      <td>3.2</td>\n",
              "    </tr>\n",
              "    <tr>\n",
              "      <th>3</th>\n",
              "      <td>3.1</td>\n",
              "    </tr>\n",
              "    <tr>\n",
              "      <th>4</th>\n",
              "      <td>3.6</td>\n",
              "    </tr>\n",
              "  </tbody>\n",
              "</table>\n",
              "</div>\n",
              "      <button class=\"colab-df-convert\" onclick=\"convertToInteractive('df-b709c095-7adc-4ca6-8be2-456380108cfd')\"\n",
              "              title=\"Convert this dataframe to an interactive table.\"\n",
              "              style=\"display:none;\">\n",
              "        \n",
              "  <svg xmlns=\"http://www.w3.org/2000/svg\" height=\"24px\"viewBox=\"0 0 24 24\"\n",
              "       width=\"24px\">\n",
              "    <path d=\"M0 0h24v24H0V0z\" fill=\"none\"/>\n",
              "    <path d=\"M18.56 5.44l.94 2.06.94-2.06 2.06-.94-2.06-.94-.94-2.06-.94 2.06-2.06.94zm-11 1L8.5 8.5l.94-2.06 2.06-.94-2.06-.94L8.5 2.5l-.94 2.06-2.06.94zm10 10l.94 2.06.94-2.06 2.06-.94-2.06-.94-.94-2.06-.94 2.06-2.06.94z\"/><path d=\"M17.41 7.96l-1.37-1.37c-.4-.4-.92-.59-1.43-.59-.52 0-1.04.2-1.43.59L10.3 9.45l-7.72 7.72c-.78.78-.78 2.05 0 2.83L4 21.41c.39.39.9.59 1.41.59.51 0 1.02-.2 1.41-.59l7.78-7.78 2.81-2.81c.8-.78.8-2.07 0-2.86zM5.41 20L4 18.59l7.72-7.72 1.47 1.35L5.41 20z\"/>\n",
              "  </svg>\n",
              "      </button>\n",
              "      \n",
              "  <style>\n",
              "    .colab-df-container {\n",
              "      display:flex;\n",
              "      flex-wrap:wrap;\n",
              "      gap: 12px;\n",
              "    }\n",
              "\n",
              "    .colab-df-convert {\n",
              "      background-color: #E8F0FE;\n",
              "      border: none;\n",
              "      border-radius: 50%;\n",
              "      cursor: pointer;\n",
              "      display: none;\n",
              "      fill: #1967D2;\n",
              "      height: 32px;\n",
              "      padding: 0 0 0 0;\n",
              "      width: 32px;\n",
              "    }\n",
              "\n",
              "    .colab-df-convert:hover {\n",
              "      background-color: #E2EBFA;\n",
              "      box-shadow: 0px 1px 2px rgba(60, 64, 67, 0.3), 0px 1px 3px 1px rgba(60, 64, 67, 0.15);\n",
              "      fill: #174EA6;\n",
              "    }\n",
              "\n",
              "    [theme=dark] .colab-df-convert {\n",
              "      background-color: #3B4455;\n",
              "      fill: #D2E3FC;\n",
              "    }\n",
              "\n",
              "    [theme=dark] .colab-df-convert:hover {\n",
              "      background-color: #434B5C;\n",
              "      box-shadow: 0px 1px 3px 1px rgba(0, 0, 0, 0.15);\n",
              "      filter: drop-shadow(0px 1px 2px rgba(0, 0, 0, 0.3));\n",
              "      fill: #FFFFFF;\n",
              "    }\n",
              "  </style>\n",
              "\n",
              "      <script>\n",
              "        const buttonEl =\n",
              "          document.querySelector('#df-b709c095-7adc-4ca6-8be2-456380108cfd button.colab-df-convert');\n",
              "        buttonEl.style.display =\n",
              "          google.colab.kernel.accessAllowed ? 'block' : 'none';\n",
              "\n",
              "        async function convertToInteractive(key) {\n",
              "          const element = document.querySelector('#df-b709c095-7adc-4ca6-8be2-456380108cfd');\n",
              "          const dataTable =\n",
              "            await google.colab.kernel.invokeFunction('convertToInteractive',\n",
              "                                                     [key], {});\n",
              "          if (!dataTable) return;\n",
              "\n",
              "          const docLinkHtml = 'Like what you see? Visit the ' +\n",
              "            '<a target=\"_blank\" href=https://colab.research.google.com/notebooks/data_table.ipynb>data table notebook</a>'\n",
              "            + ' to learn more about interactive tables.';\n",
              "          element.innerHTML = '';\n",
              "          dataTable['output_type'] = 'display_data';\n",
              "          await google.colab.output.renderOutput(dataTable, element);\n",
              "          const docLink = document.createElement('div');\n",
              "          docLink.innerHTML = docLinkHtml;\n",
              "          element.appendChild(docLink);\n",
              "        }\n",
              "      </script>\n",
              "    </div>\n",
              "  </div>\n",
              "  "
            ]
          },
          "metadata": {}
        },
        {
          "output_type": "display_data",
          "data": {
            "text/plain": [
              "     sepal.width  petal.length  petal.width    variety\n",
              "5            3.9           1.7          0.4     Setosa\n",
              "6            3.4           1.4          0.3     Setosa\n",
              "7            3.4           1.5          0.2     Setosa\n",
              "8            2.9           1.4          0.2     Setosa\n",
              "9            3.1           1.5          0.1     Setosa\n",
              "..           ...           ...          ...        ...\n",
              "145          3.0           5.2          2.3  Virginica\n",
              "146          2.5           5.0          1.9  Virginica\n",
              "147          3.0           5.2          2.0  Virginica\n",
              "148          3.4           5.4          2.3  Virginica\n",
              "149          3.0           5.1          1.8  Virginica\n",
              "\n",
              "[145 rows x 4 columns]"
            ],
            "text/html": [
              "\n",
              "  <div id=\"df-a7321d1b-7acf-4eca-9411-4fc08afc3b9a\">\n",
              "    <div class=\"colab-df-container\">\n",
              "      <div>\n",
              "<style scoped>\n",
              "    .dataframe tbody tr th:only-of-type {\n",
              "        vertical-align: middle;\n",
              "    }\n",
              "\n",
              "    .dataframe tbody tr th {\n",
              "        vertical-align: top;\n",
              "    }\n",
              "\n",
              "    .dataframe thead th {\n",
              "        text-align: right;\n",
              "    }\n",
              "</style>\n",
              "<table border=\"1\" class=\"dataframe\">\n",
              "  <thead>\n",
              "    <tr style=\"text-align: right;\">\n",
              "      <th></th>\n",
              "      <th>sepal.width</th>\n",
              "      <th>petal.length</th>\n",
              "      <th>petal.width</th>\n",
              "      <th>variety</th>\n",
              "    </tr>\n",
              "  </thead>\n",
              "  <tbody>\n",
              "    <tr>\n",
              "      <th>5</th>\n",
              "      <td>3.9</td>\n",
              "      <td>1.7</td>\n",
              "      <td>0.4</td>\n",
              "      <td>Setosa</td>\n",
              "    </tr>\n",
              "    <tr>\n",
              "      <th>6</th>\n",
              "      <td>3.4</td>\n",
              "      <td>1.4</td>\n",
              "      <td>0.3</td>\n",
              "      <td>Setosa</td>\n",
              "    </tr>\n",
              "    <tr>\n",
              "      <th>7</th>\n",
              "      <td>3.4</td>\n",
              "      <td>1.5</td>\n",
              "      <td>0.2</td>\n",
              "      <td>Setosa</td>\n",
              "    </tr>\n",
              "    <tr>\n",
              "      <th>8</th>\n",
              "      <td>2.9</td>\n",
              "      <td>1.4</td>\n",
              "      <td>0.2</td>\n",
              "      <td>Setosa</td>\n",
              "    </tr>\n",
              "    <tr>\n",
              "      <th>9</th>\n",
              "      <td>3.1</td>\n",
              "      <td>1.5</td>\n",
              "      <td>0.1</td>\n",
              "      <td>Setosa</td>\n",
              "    </tr>\n",
              "    <tr>\n",
              "      <th>...</th>\n",
              "      <td>...</td>\n",
              "      <td>...</td>\n",
              "      <td>...</td>\n",
              "      <td>...</td>\n",
              "    </tr>\n",
              "    <tr>\n",
              "      <th>145</th>\n",
              "      <td>3.0</td>\n",
              "      <td>5.2</td>\n",
              "      <td>2.3</td>\n",
              "      <td>Virginica</td>\n",
              "    </tr>\n",
              "    <tr>\n",
              "      <th>146</th>\n",
              "      <td>2.5</td>\n",
              "      <td>5.0</td>\n",
              "      <td>1.9</td>\n",
              "      <td>Virginica</td>\n",
              "    </tr>\n",
              "    <tr>\n",
              "      <th>147</th>\n",
              "      <td>3.0</td>\n",
              "      <td>5.2</td>\n",
              "      <td>2.0</td>\n",
              "      <td>Virginica</td>\n",
              "    </tr>\n",
              "    <tr>\n",
              "      <th>148</th>\n",
              "      <td>3.4</td>\n",
              "      <td>5.4</td>\n",
              "      <td>2.3</td>\n",
              "      <td>Virginica</td>\n",
              "    </tr>\n",
              "    <tr>\n",
              "      <th>149</th>\n",
              "      <td>3.0</td>\n",
              "      <td>5.1</td>\n",
              "      <td>1.8</td>\n",
              "      <td>Virginica</td>\n",
              "    </tr>\n",
              "  </tbody>\n",
              "</table>\n",
              "<p>145 rows × 4 columns</p>\n",
              "</div>\n",
              "      <button class=\"colab-df-convert\" onclick=\"convertToInteractive('df-a7321d1b-7acf-4eca-9411-4fc08afc3b9a')\"\n",
              "              title=\"Convert this dataframe to an interactive table.\"\n",
              "              style=\"display:none;\">\n",
              "        \n",
              "  <svg xmlns=\"http://www.w3.org/2000/svg\" height=\"24px\"viewBox=\"0 0 24 24\"\n",
              "       width=\"24px\">\n",
              "    <path d=\"M0 0h24v24H0V0z\" fill=\"none\"/>\n",
              "    <path d=\"M18.56 5.44l.94 2.06.94-2.06 2.06-.94-2.06-.94-.94-2.06-.94 2.06-2.06.94zm-11 1L8.5 8.5l.94-2.06 2.06-.94-2.06-.94L8.5 2.5l-.94 2.06-2.06.94zm10 10l.94 2.06.94-2.06 2.06-.94-2.06-.94-.94-2.06-.94 2.06-2.06.94z\"/><path d=\"M17.41 7.96l-1.37-1.37c-.4-.4-.92-.59-1.43-.59-.52 0-1.04.2-1.43.59L10.3 9.45l-7.72 7.72c-.78.78-.78 2.05 0 2.83L4 21.41c.39.39.9.59 1.41.59.51 0 1.02-.2 1.41-.59l7.78-7.78 2.81-2.81c.8-.78.8-2.07 0-2.86zM5.41 20L4 18.59l7.72-7.72 1.47 1.35L5.41 20z\"/>\n",
              "  </svg>\n",
              "      </button>\n",
              "      \n",
              "  <style>\n",
              "    .colab-df-container {\n",
              "      display:flex;\n",
              "      flex-wrap:wrap;\n",
              "      gap: 12px;\n",
              "    }\n",
              "\n",
              "    .colab-df-convert {\n",
              "      background-color: #E8F0FE;\n",
              "      border: none;\n",
              "      border-radius: 50%;\n",
              "      cursor: pointer;\n",
              "      display: none;\n",
              "      fill: #1967D2;\n",
              "      height: 32px;\n",
              "      padding: 0 0 0 0;\n",
              "      width: 32px;\n",
              "    }\n",
              "\n",
              "    .colab-df-convert:hover {\n",
              "      background-color: #E2EBFA;\n",
              "      box-shadow: 0px 1px 2px rgba(60, 64, 67, 0.3), 0px 1px 3px 1px rgba(60, 64, 67, 0.15);\n",
              "      fill: #174EA6;\n",
              "    }\n",
              "\n",
              "    [theme=dark] .colab-df-convert {\n",
              "      background-color: #3B4455;\n",
              "      fill: #D2E3FC;\n",
              "    }\n",
              "\n",
              "    [theme=dark] .colab-df-convert:hover {\n",
              "      background-color: #434B5C;\n",
              "      box-shadow: 0px 1px 3px 1px rgba(0, 0, 0, 0.15);\n",
              "      filter: drop-shadow(0px 1px 2px rgba(0, 0, 0, 0.3));\n",
              "      fill: #FFFFFF;\n",
              "    }\n",
              "  </style>\n",
              "\n",
              "      <script>\n",
              "        const buttonEl =\n",
              "          document.querySelector('#df-a7321d1b-7acf-4eca-9411-4fc08afc3b9a button.colab-df-convert');\n",
              "        buttonEl.style.display =\n",
              "          google.colab.kernel.accessAllowed ? 'block' : 'none';\n",
              "\n",
              "        async function convertToInteractive(key) {\n",
              "          const element = document.querySelector('#df-a7321d1b-7acf-4eca-9411-4fc08afc3b9a');\n",
              "          const dataTable =\n",
              "            await google.colab.kernel.invokeFunction('convertToInteractive',\n",
              "                                                     [key], {});\n",
              "          if (!dataTable) return;\n",
              "\n",
              "          const docLinkHtml = 'Like what you see? Visit the ' +\n",
              "            '<a target=\"_blank\" href=https://colab.research.google.com/notebooks/data_table.ipynb>data table notebook</a>'\n",
              "            + ' to learn more about interactive tables.';\n",
              "          element.innerHTML = '';\n",
              "          dataTable['output_type'] = 'display_data';\n",
              "          await google.colab.output.renderOutput(dataTable, element);\n",
              "          const docLink = document.createElement('div');\n",
              "          docLink.innerHTML = docLinkHtml;\n",
              "          element.appendChild(docLink);\n",
              "        }\n",
              "      </script>\n",
              "    </div>\n",
              "  </div>\n",
              "  "
            ]
          },
          "metadata": {}
        }
      ]
    },
    {
      "cell_type": "code",
      "source": [
        "import numpy as np\n",
        "import matplotlib as plt\n",
        "from sklearn import datasets #various toy datasets\n",
        "from sklearn import metrics #Check accuracy of model\n",
        "from sklearn.linear_model import LogisticRegression\n",
        "\n",
        "wine = datasets.load_wine()\n",
        "X = wine.data\n",
        "y= wine.target\n",
        "feature_names = wine.feature_names\n",
        "target_names = wine.target_names\n",
        "print(\"Feature names:\", feature_names)\n",
        "print(\"Target names:\", target_names)\n",
        "print(\"\\nFirst 10 rows of X:\\n\", X[:10])\n",
        "\n",
        "from sklearn.model_selection import train_test_split\n",
        "X_train, X_test, y_train, y_test = train_test_split(\n",
        "X, y, test_size = 0.4, random_state=1\n",
        ")"
      ],
      "metadata": {
        "id": "H2xj2fuXZQZh",
        "outputId": "2cf8296d-c324-4a10-850e-783b2a27be82",
        "colab": {
          "base_uri": "https://localhost:8080/"
        }
      },
      "execution_count": null,
      "outputs": [
        {
          "output_type": "stream",
          "name": "stdout",
          "text": [
            "Feature names: ['alcohol', 'malic_acid', 'ash', 'alcalinity_of_ash', 'magnesium', 'total_phenols', 'flavanoids', 'nonflavanoid_phenols', 'proanthocyanins', 'color_intensity', 'hue', 'od280/od315_of_diluted_wines', 'proline']\n",
            "Target names: ['class_0' 'class_1' 'class_2']\n",
            "\n",
            "First 10 rows of X:\n",
            " [[1.423e+01 1.710e+00 2.430e+00 1.560e+01 1.270e+02 2.800e+00 3.060e+00\n",
            "  2.800e-01 2.290e+00 5.640e+00 1.040e+00 3.920e+00 1.065e+03]\n",
            " [1.320e+01 1.780e+00 2.140e+00 1.120e+01 1.000e+02 2.650e+00 2.760e+00\n",
            "  2.600e-01 1.280e+00 4.380e+00 1.050e+00 3.400e+00 1.050e+03]\n",
            " [1.316e+01 2.360e+00 2.670e+00 1.860e+01 1.010e+02 2.800e+00 3.240e+00\n",
            "  3.000e-01 2.810e+00 5.680e+00 1.030e+00 3.170e+00 1.185e+03]\n",
            " [1.437e+01 1.950e+00 2.500e+00 1.680e+01 1.130e+02 3.850e+00 3.490e+00\n",
            "  2.400e-01 2.180e+00 7.800e+00 8.600e-01 3.450e+00 1.480e+03]\n",
            " [1.324e+01 2.590e+00 2.870e+00 2.100e+01 1.180e+02 2.800e+00 2.690e+00\n",
            "  3.900e-01 1.820e+00 4.320e+00 1.040e+00 2.930e+00 7.350e+02]\n",
            " [1.420e+01 1.760e+00 2.450e+00 1.520e+01 1.120e+02 3.270e+00 3.390e+00\n",
            "  3.400e-01 1.970e+00 6.750e+00 1.050e+00 2.850e+00 1.450e+03]\n",
            " [1.439e+01 1.870e+00 2.450e+00 1.460e+01 9.600e+01 2.500e+00 2.520e+00\n",
            "  3.000e-01 1.980e+00 5.250e+00 1.020e+00 3.580e+00 1.290e+03]\n",
            " [1.406e+01 2.150e+00 2.610e+00 1.760e+01 1.210e+02 2.600e+00 2.510e+00\n",
            "  3.100e-01 1.250e+00 5.050e+00 1.060e+00 3.580e+00 1.295e+03]\n",
            " [1.483e+01 1.640e+00 2.170e+00 1.400e+01 9.700e+01 2.800e+00 2.980e+00\n",
            "  2.900e-01 1.980e+00 5.200e+00 1.080e+00 2.850e+00 1.045e+03]\n",
            " [1.386e+01 1.350e+00 2.270e+00 1.600e+01 9.800e+01 2.980e+00 3.150e+00\n",
            "  2.200e-01 1.850e+00 7.220e+00 1.010e+00 3.550e+00 1.045e+03]]\n"
          ]
        }
      ]
    },
    {
      "cell_type": "code",
      "source": [
        "import nltk # Python library for NLP\n",
        "from nltk.corpus import twitter_samples # sample Twitter dataset from NLTK\n",
        "import matplotlib.pyplot as plt # library for visualization\n",
        "import random # pseudo-random number generator\n",
        "\n",
        "nltk.download('twitter_samples')\n",
        "\n",
        "all_positive_tweets = twitter_samples.strings('positive_tweets.json')\n",
        "all_negative_tweets = twitter_samples.strings('negative_tweets.json')"
      ],
      "metadata": {
        "id": "2OfQsvW-pB5x",
        "outputId": "665420f8-bff2-4e5f-bffb-c96793e03d44",
        "colab": {
          "base_uri": "https://localhost:8080/"
        }
      },
      "execution_count": null,
      "outputs": [
        {
          "output_type": "stream",
          "name": "stderr",
          "text": [
            "[nltk_data] Downloading package twitter_samples to /root/nltk_data...\n",
            "[nltk_data]   Package twitter_samples is already up-to-date!\n"
          ]
        }
      ]
    },
    {
      "cell_type": "code",
      "source": [
        "print('Number of positive tweets: ', len(all_positive_tweets))\n",
        "print('Number of negative tweets: ', len(all_negative_tweets))\n",
        "\n",
        "print('\\nThe type of all_positive_tweets is: ', type(all_positive_tweets))\n",
        "print('The type of a tweet entry is: ', type(all_negative_tweets[0]))"
      ],
      "metadata": {
        "id": "cNueBSVbpqZo",
        "outputId": "2882c406-3e03-45bf-fa6a-508150abb1c1",
        "colab": {
          "base_uri": "https://localhost:8080/"
        }
      },
      "execution_count": null,
      "outputs": [
        {
          "output_type": "stream",
          "name": "stdout",
          "text": [
            "Number of positive tweets:  5000\n",
            "Number of negative tweets:  5000\n",
            "\n",
            "The type of all_positive_tweets is:  <class 'list'>\n",
            "The type of a tweet entry is:  <class 'str'>\n"
          ]
        }
      ]
    },
    {
      "cell_type": "code",
      "source": [
        "# Declare a figure with a custom size\n",
        "fig = plt.figure(figsize=(5, 5))\n",
        "\n",
        "# labels for the classes\n",
        "labels = 'ML-HAP-Lec', 'ML-SPS-Lec','ML-HAP-Lab','ML-SPS-Lab'\n",
        "\n",
        "# Sizes for each slide\n",
        "sizes = [35, 45, 15,15]\n",
        "\n",
        "# Declare pie chart, where the slices will be ordered and plotted counter-clockwise:\n",
        "plt.pie(sizes, labels=labels, autopct='%.2f%%',\n",
        "shadow=True, startangle=90)\n",
        "\n",
        "# # Equal aspect ratio ensures that pie is drawn as a circle.\n",
        "plt.axis('equal')\n",
        "# Display the chart\n",
        "plt.show()"
      ],
      "metadata": {
        "id": "ZWULoOuppxT1",
        "outputId": "a5d4933c-416a-4661-8b4a-b96f1b7cec87",
        "colab": {
          "base_uri": "https://localhost:8080/",
          "height": 307
        }
      },
      "execution_count": null,
      "outputs": [
        {
          "output_type": "display_data",
          "data": {
            "text/plain": [
              "<Figure size 360x360 with 1 Axes>"
            ],
            "image/png": "[encoded data removed]"
          },
          "metadata": {}
        }
      ]
    },
    {
      "cell_type": "code",
      "source": [
        "# Declare a figure with a custom size\n",
        "fig = plt.figure(figsize=(5, 5))\n",
        "\n",
        "# labels for the two classes\n",
        "labels = 'Positives', 'Negative'\n",
        "\n",
        "# Sizes for each slide\n",
        "sizes = [len(all_positive_tweets), len(all_negative_tweets)]\n",
        "\n",
        "# Declare pie chart, where the slices will be ordered and plotted counter-clockwise:\n",
        "plt.pie(sizes, labels=labels, autopct='%1.1f%%',shadow=True, startangle=90)\n",
        "\n",
        "# Equal aspect ratio ensures that pie is drawn as a circle.\n",
        "plt.axis('equal')\n",
        "# Display the chart\n",
        "plt.show()"
      ],
      "metadata": {
        "id": "2ZQ_4N6gqf47",
        "outputId": "4f26f99b-ce8d-4f20-a116-c9f6a7fc61a3",
        "colab": {
          "base_uri": "https://localhost:8080/",
          "height": 303
        }
      },
      "execution_count": null,
      "outputs": [
        {
          "output_type": "display_data",
          "data": {
            "text/plain": [
              "<Figure size 360x360 with 1 Axes>"
            ],
            "image/png": "[encoded data removed]"
          },
          "metadata": {}
        }
      ]
    },
    {
      "cell_type": "code",
      "source": [
        "# print positive in greeen\n",
        "print('\\033[92m' + all_positive_tweets[random.randint(0,5000)])\n",
        "\n",
        "# print negative in red\n",
        "print('\\033[91m' + all_negative_tweets[random.randint(0,5000)])"
      ],
      "metadata": {
        "id": "k31K_SujqtRC",
        "outputId": "c006f5da-119b-409b-a02b-d906225c3ebb",
        "colab": {
          "base_uri": "https://localhost:8080/"
        }
      },
      "execution_count": null,
      "outputs": [
        {
          "output_type": "stream",
          "name": "stdout",
          "text": [
            "\u001b[92m@MrsPandP Thank you :)\n",
            "\u001b[91mI should be working on that stadium, I'm a boss welder :(\n"
          ]
        }
      ]
    },
    {
      "cell_type": "code",
      "source": [
        "# Our selected sample\n",
        "tweet = all_positive_tweets[2277]\n",
        "print(tweet)"
      ],
      "metadata": {
        "id": "LquBOs1YrS6d",
        "outputId": "eb28b56b-71b5-4157-f72a-fe4cc53d0ef2",
        "colab": {
          "base_uri": "https://localhost:8080/"
        }
      },
      "execution_count": null,
      "outputs": [
        {
          "output_type": "stream",
          "name": "stdout",
          "text": [
            "My beautiful sunflowers on a sunny Friday morning off :) #sunflowers #favourites #happy #Friday off… https://t.co/3tfYom0N1i\n"
          ]
        }
      ]
    },
    {
      "cell_type": "code",
      "source": [
        "# download the stopwords from NLTK\n",
        "nltk.download('stopwords')"
      ],
      "metadata": {
        "id": "zSFyZs6Oregd",
        "outputId": "66513357-7215-4ca9-9c12-8a1c71403533",
        "colab": {
          "base_uri": "https://localhost:8080/"
        }
      },
      "execution_count": null,
      "outputs": [
        {
          "output_type": "stream",
          "name": "stderr",
          "text": [
            "[nltk_data] Downloading package stopwords to /root/nltk_data...\n",
            "[nltk_data]   Package stopwords is already up-to-date!\n"
          ]
        },
        {
          "output_type": "execute_result",
          "data": {
            "text/plain": [
              "True"
            ]
          },
          "metadata": {},
          "execution_count": 111
        }
      ]
    },
    {
      "cell_type": "code",
      "source": [
        "import re\n",
        "import string # for string operations\n",
        "from nltk.corpus import stopwords # module for stop words that come with NLTK\n",
        "from nltk.stem import PorterStemmer # module for stemming\n",
        "from nltk.tokenize import TweetTokenizer # module for tokenizing strings\n",
        "from nltk.stem import WordNetLemmatizer\n",
        "\n",
        "print('\\033[92m' + tweet)\n",
        "print('\\033[94m')\n",
        "# remove hyperlinks\n",
        "tweet2 = re.sub(r'https?:\\/\\/.*[\\r\\n]*', '', tweet)\n",
        "# remove hashtags\n",
        "# only removing the hash # sign from the word\n",
        "tweet2 = re.sub(r'#', '', tweet2)\n",
        "print(tweet2)"
      ],
      "metadata": {
        "id": "dGoQSU71rxRH",
        "outputId": "23a27ae4-62c6-41d5-bb46-6d989c7ee0b6",
        "colab": {
          "base_uri": "https://localhost:8080/"
        }
      },
      "execution_count": null,
      "outputs": [
        {
          "output_type": "stream",
          "name": "stdout",
          "text": [
            "\u001b[92mMy beautiful sunflowers on a sunny Friday morning off :) #sunflowers #favourites #happy #Friday off… https://t.co/3tfYom0N1i\n",
            "\u001b[94m\n",
            "My beautiful sunflowers on a sunny Friday morning off :) sunflowers favourites happy Friday off… \n"
          ]
        }
      ]
    },
    {
      "cell_type": "code",
      "source": [
        "#Import the english stop words list from NLTK\n",
        "stopwords_english = stopwords.words('english')\n",
        "print('Stop words\\n')\n",
        "print(stopwords_english)\n",
        "print('\\nPunctuation\\n')\n",
        "print(string.punctuation)"
      ],
      "metadata": {
        "id": "XTklBtx82iph",
        "outputId": "2a562c50-56af-44cd-d673-7a3a9d38b362",
        "colab": {
          "base_uri": "https://localhost:8080/"
        }
      },
      "execution_count": null,
      "outputs": [
        {
          "output_type": "stream",
          "name": "stdout",
          "text": [
            "Stop words\n",
            "\n",
            "['i', 'me', 'my', 'myself', 'we', 'our', 'ours', 'ourselves', 'you', \"you're\", \"you've\", \"you'll\", \"you'd\", 'your', 'yours', 'yourself', 'yourselves', 'he', 'him', 'his', 'himself', 'she', \"she's\", 'her', 'hers', 'herself', 'it', \"it's\", 'its', 'itself', 'they', 'them', 'their', 'theirs', 'themselves', 'what', 'which', 'who', 'whom', 'this', 'that', \"that'll\", 'these', 'those', 'am', 'is', 'are', 'was', 'were', 'be', 'been', 'being', 'have', 'has', 'had', 'having', 'do', 'does', 'did', 'doing', 'a', 'an', 'the', 'and', 'but', 'if', 'or', 'because', 'as', 'until', 'while', 'of', 'at', 'by', 'for', 'with', 'about', 'against', 'between', 'into', 'through', 'during', 'before', 'after', 'above', 'below', 'to', 'from', 'up', 'down', 'in', 'out', 'on', 'off', 'over', 'under', 'again', 'further', 'then', 'once', 'here', 'there', 'when', 'where', 'why', 'how', 'all', 'any', 'both', 'each', 'few', 'more', 'most', 'other', 'some', 'such', 'no', 'nor', 'not', 'only', 'own', 'same', 'so', 'than', 'too', 'very', 's', 't', 'can', 'will', 'just', 'don', \"don't\", 'should', \"should've\", 'now', 'd', 'll', 'm', 'o', 're', 've', 'y', 'ain', 'aren', \"aren't\", 'couldn', \"couldn't\", 'didn', \"didn't\", 'doesn', \"doesn't\", 'hadn', \"hadn't\", 'hasn', \"hasn't\", 'haven', \"haven't\", 'isn', \"isn't\", 'ma', 'mightn', \"mightn't\", 'mustn', \"mustn't\", 'needn', \"needn't\", 'shan', \"shan't\", 'shouldn', \"shouldn't\", 'wasn', \"wasn't\", 'weren', \"weren't\", 'won', \"won't\", 'wouldn', \"wouldn't\"]\n",
            "\n",
            "Punctuation\n",
            "\n",
            "!\"#$%&'()*+,-./:;<=>?@[\\]^_`{|}~\n"
          ]
        }
      ]
    },
    {
      "cell_type": "code",
      "source": [
        "# Write the function to generate random numbers from a normal distribution with mean 0 and variance 1.\n",
        "\n",
        "import numpy as np\n",
        "\n",
        "def generate_random_numbers(n):\n",
        "  random_numbers = np.random.normal(loc=0, scale=1, size=n)\n",
        "  return random_numbers\n",
        "\n",
        "random_numbers = generate_random_numbers(1)\n",
        "print(random_numbers)"
      ],
      "metadata": {
        "colab": {
          "base_uri": "https://localhost:8080/"
        },
        "id": "mV1B0kPW2VIk",
        "outputId": "d08f5c35-a8f2-462e-e7eb-d10abb105ed6"
      },
      "execution_count": null,
      "outputs": [
        {
          "output_type": "stream",
          "name": "stdout",
          "text": [
            "[0.38425927]\n"
          ]
        }
      ]
    },
    {
      "cell_type": "code",
      "source": [
        "import numpy as np\n",
        "\n",
        "# Create a 1D array with 10 elements\n",
        "arr1 = np.array([0, 1, 2, 3, 4, 5, 6, 7, 8, 9])\n",
        "\n",
        "# Slice the array starting from 3rd value to the end\n",
        "slice1 = arr1[2:]\n",
        "print(slice1)  # Output: [2 3 4 5 6 7 8 9]\n",
        "\n",
        "# Perform slicing arr1[-4:-2]\n",
        "slice2 = arr1[-4:-2]\n",
        "print(slice2)  # Output: [6 7]"
      ],
      "metadata": {
        "colab": {
          "base_uri": "https://localhost:8080/"
        },
        "id": "BekbVaHS4-H_",
        "outputId": "1729ff60-cfa1-48b8-c6e3-bcd817cbe4d5"
      },
      "execution_count": null,
      "outputs": [
        {
          "output_type": "stream",
          "name": "stdout",
          "text": [
            "[2 3 4 5 6 7 8 9]\n",
            "[6 7]\n"
          ]
        }
      ]
    },
    {
      "cell_type": "code",
      "source": [
        "import numpy as np\n",
        "\n",
        "# Create two 4x4 NumPy arrays\n",
        "A = np.array([[1, 2, 3, 4],\n",
        "              [5, 6, 7, 8],\n",
        "              [9, 10, 11, 12],\n",
        "              [13, 14, 15, 16]])\n",
        "\n",
        "B = np.array([[1, 0, 0, 1],\n",
        "              [0, 1, 1, 0],\n",
        "              [0, 1, 1, 0],\n",
        "              [1, 0, 0, 1]])\n",
        "\n",
        "# Define a function to calculate the determinant of a matrix\n",
        "def calculate_determinant(matrix):\n",
        "  return np.linalg.det(matrix)\n",
        "\n",
        "# Define a function to calculate the transpose of a matrix\n",
        "def calculate_transpose(matrix):\n",
        "  return np.transpose(matrix)\n",
        "\n",
        "# Define a function to calculate the norm of a matrix\n",
        "def calculate_norm(matrix):\n",
        "  return np.linalg.norm(matrix)\n",
        "\n",
        "def calculate_mul(m1,m2):\n",
        "  return m1.dot(m2)\n",
        "\n",
        "print(calculate_determinant(A))\n",
        "print(calculate_transpose(B))\n",
        "print(calculate_norm(A))\n",
        "print(calculate_mul(A,B))"
      ],
      "metadata": {
        "colab": {
          "base_uri": "https://localhost:8080/"
        },
        "id": "DLt5WLGv6FD_",
        "outputId": "59224439-1020-4930-f1ae-0f702272606e"
      },
      "execution_count": null,
      "outputs": [
        {
          "output_type": "stream",
          "name": "stdout",
          "text": [
            "0.0\n",
            "[[1 0 0 1]\n",
            " [0 1 1 0]\n",
            " [0 1 1 0]\n",
            " [1 0 0 1]]\n",
            "38.67815921162743\n",
            "[[ 5  5  5  5]\n",
            " [13 13 13 13]\n",
            " [21 21 21 21]\n",
            " [29 29 29 29]]\n"
          ]
        }
      ]
    },
    {
      "cell_type": "code",
      "source": [
        "#6. Show and compare the results generated by PorterStemmer and WordNetLemmatizer on any sample tweet from twitter dataset.\n",
        "import nltk\n",
        "from nltk.corpus import twitter_samples\n",
        "from nltk.stem import PorterStemmer, WordNetLemmatizer\n",
        "from nltk.tokenize import word_tokenize\n",
        "\n",
        "nltk.download('twitter_samples')\n",
        "all_positive_tweets = twitter_samples.strings('positive_tweets.json')\n",
        "\n",
        "nltk.download('punkt')\n",
        "nltk.download('wordnet')\n",
        "nltk.download('omw-1.4')\n",
        "\n",
        "tweet = all_positive_tweets[2277]\n",
        "\n",
        "porter_stemmer = PorterStemmer()\n",
        "stemmed_tweet = [porter_stemmer.stem(word) for word in word_tokenize(tweet)]\n",
        "print(stemmed_tweet)\n",
        "\n",
        "wordnet_lemmatizer = WordNetLemmatizer()\n",
        "lemmatized_tweet = [wordnet_lemmatizer.lemmatize(word) for word in word_tokenize(tweet)]\n",
        "print(lemmatized_tweet)\n"
      ],
      "metadata": {
        "colab": {
          "base_uri": "https://localhost:8080/"
        },
        "id": "Bpsuwr0Z9tcb",
        "outputId": "ef76047a-4d59-4c24-f066-b1a47f012508"
      },
      "execution_count": null,
      "outputs": [
        {
          "output_type": "stream",
          "name": "stderr",
          "text": [
            "[nltk_data] Downloading package twitter_samples to /root/nltk_data...\n",
            "[nltk_data]   Package twitter_samples is already up-to-date!\n",
            "[nltk_data] Downloading package punkt to /root/nltk_data...\n",
            "[nltk_data]   Package punkt is already up-to-date!\n",
            "[nltk_data] Downloading package wordnet to /root/nltk_data...\n",
            "[nltk_data]   Package wordnet is already up-to-date!\n",
            "[nltk_data] Downloading package omw-1.4 to /root/nltk_data...\n"
          ]
        },
        {
          "output_type": "stream",
          "name": "stdout",
          "text": [
            "['my', 'beauti', 'sunflow', 'on', 'a', 'sunni', 'friday', 'morn', 'off', ':', ')', '#', 'sunflow', '#', 'favourit', '#', 'happi', '#', 'friday', 'off…', 'http', ':', '//t.co/3tfyom0n1i']\n",
            "['My', 'beautiful', 'sunflower', 'on', 'a', 'sunny', 'Friday', 'morning', 'off', ':', ')', '#', 'sunflower', '#', 'favourite', '#', 'happy', '#', 'Friday', 'off…', 'http', ':', '//t.co/3tfYom0N1i']\n"
          ]
        }
      ]
    },
    {
      "cell_type": "code",
      "source": [
        "from sklearn.datasets import load_iris\n",
        "import pandas as pd\n",
        "\n",
        "iris = load_iris()\n",
        "df = pd.DataFrame(data=iris.data, columns=iris.feature_names)\n",
        "df['target'] = iris.target\n",
        "df['target'] = df['target'].map({0: 'setosa', 1: 'versicolor', 2: 'virginica'})\n",
        "\n",
        "selected_data = df.iloc[1:5, 2:5]\n",
        "print(selected_data)"
      ],
      "metadata": {
        "id": "21m_eWcjB_-I",
        "outputId": "26bfb7f4-4aaa-4a96-8bf1-39e2c80b3832",
        "colab": {
          "base_uri": "https://localhost:8080/"
        }
      },
      "execution_count": null,
      "outputs": [
        {
          "output_type": "stream",
          "name": "stdout",
          "text": [
            "   petal length (cm)  petal width (cm)  target\n",
            "1                1.4               0.2  setosa\n",
            "2                1.3               0.2  setosa\n",
            "3                1.5               0.2  setosa\n",
            "4                1.4               0.2  setosa\n"
          ]
        }
      ]
    }
  ]
}