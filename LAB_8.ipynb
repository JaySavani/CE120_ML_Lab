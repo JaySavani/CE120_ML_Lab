{
  "nbformat": 4,
  "nbformat_minor": 0,
  "metadata": {
    "colab": {
      "provenance": [],
      "include_colab_link": true
    },
    "kernelspec": {
      "name": "python3",
      "display_name": "Python 3"
    },
    "language_info": {
      "name": "python"
    }
  },
  "cells": [
    {
      "cell_type": "markdown",
      "metadata": {
        "id": "view-in-github",
        "colab_type": "text"
      },
      "source": [
        "<a href=\"https://colab.research.google.com/github/JaySavani/ML_Lab/blob/main/LAB_8.ipynb\" target=\"_parent\"><img src=\"https://colab.research.google.com/assets/colab-badge.svg\" alt=\"Open In Colab\"/></a>"
      ]
    },
    {
      "cell_type": "code",
      "execution_count": null,
      "metadata": {
        "colab": {
          "base_uri": "https://localhost:8080/"
        },
        "id": "uhTEmsWT2MqJ",
        "outputId": "3cd8f253-9469-4898-92b5-4f1f72218831"
      },
      "outputs": [
        {
          "output_type": "stream",
          "name": "stdout",
          "text": [
            "Accuracy 0.43859649122807015\n",
            "Precision 0.43859649122807015\n",
            "Recall 1.0\n",
            "              precision    recall  f1-score   support\n",
            "\n",
            "           0       0.00      0.00      0.00        64\n",
            "           1       0.44      1.00      0.61        50\n",
            "\n",
            "    accuracy                           0.44       114\n",
            "   macro avg       0.22      0.50      0.30       114\n",
            "weighted avg       0.19      0.44      0.27       114\n",
            "\n"
          ]
        },
        {
          "output_type": "stream",
          "name": "stderr",
          "text": [
            "/usr/local/lib/python3.8/dist-packages/sklearn/base.py:443: UserWarning: X has feature names, but LogisticRegression was fitted without feature names\n",
            "  warnings.warn(\n",
            "/usr/local/lib/python3.8/dist-packages/sklearn/metrics/_classification.py:1318: UndefinedMetricWarning: Precision and F-score are ill-defined and being set to 0.0 in labels with no predicted samples. Use `zero_division` parameter to control this behavior.\n",
            "  _warn_prf(average, modifier, msg_start, len(result))\n",
            "/usr/local/lib/python3.8/dist-packages/sklearn/metrics/_classification.py:1318: UndefinedMetricWarning: Precision and F-score are ill-defined and being set to 0.0 in labels with no predicted samples. Use `zero_division` parameter to control this behavior.\n",
            "  _warn_prf(average, modifier, msg_start, len(result))\n",
            "/usr/local/lib/python3.8/dist-packages/sklearn/metrics/_classification.py:1318: UndefinedMetricWarning: Precision and F-score are ill-defined and being set to 0.0 in labels with no predicted samples. Use `zero_division` parameter to control this behavior.\n",
            "  _warn_prf(average, modifier, msg_start, len(result))\n"
          ]
        }
      ],
      "source": [
        "import pandas as pd\n",
        "import numpy as np\n",
        "import matplotlib.pyplot as plt\n",
        "from mlxtend.plotting import plot_confusion_matrix\n",
        "from sklearn.preprocessing import StandardScaler, PolynomialFeatures\n",
        "from sklearn.linear_model import LogisticRegression, LinearRegression\n",
        "from sklearn.naive_bayes import GaussianNB\n",
        "from sklearn.tree import DecisionTreeClassifier\n",
        "from sklearn.metrics import confusion_matrix\n",
        "from sklearn.metrics import accuracy_score, precision_score, recall_score, classification_report\n",
        "from sklearn.ensemble import StackingClassifier\n",
        "from sklearn.model_selection import train_test_split\n",
        "from sklearn.preprocessing import LabelEncoder\n",
        "\n",
        "data = pd.read_csv(\"/content/drive/MyDrive/Colab Notebooks/data.csv\", usecols=['radius_mean', 'perimeter_mean', 'area_mean', 'diagnosis'])\n",
        "data.head()\n",
        "\n",
        "features = data.drop('diagnosis', axis=1)\n",
        "label = data['diagnosis']\n",
        "\n",
        "encoder = LabelEncoder()\n",
        "labels = encoder.fit_transform(label)\n",
        "\n",
        "trainF, testF, trainL, testL = train_test_split(features, labels, test_size=0.2, random_state=120)\n",
        "\n",
        "model1 = GaussianNB(var_smoothing=0.00001)\n",
        "model1.fit(trainF, trainL)\n",
        "pred1 = model1.predict(testF)\n",
        "\n",
        "model2 = LogisticRegression(max_iter=3000)\n",
        "model2.fit(trainF, trainL)\n",
        "pred2 = model2.predict(testF)\n",
        "\n",
        "model3 = DecisionTreeClassifier(max_leaf_nodes=50)\n",
        "model3.fit(trainF, trainL)\n",
        "pred3 = model3.predict(testF)\n",
        "\n",
        "blender = LogisticRegression(max_iter=3000)\n",
        "mixture = np.array([pred1, pred2, pred3])\n",
        "mixture = np.transpose(mixture)\n",
        "blender.fit(mixture, testL)\n",
        "\n",
        "predicted = blender.predict(testF)\n",
        "print('Accuracy {}'.format(accuracy_score(testL, predicted)))\n",
        "print('Precision {}'.format(precision_score(testL, predicted)))\n",
        "print('Recall {}'.format(recall_score(testL, predicted)))\n",
        "print(classification_report(testL, predicted))"
      ]
    },
    {
      "cell_type": "code",
      "source": [
        "from sklearn.ensemble import BaggingClassifier\n",
        "import pandas as pd\n",
        "import numpy as np\n",
        "import matplotlib.pyplot as plt\n",
        "from sklearn.metrics import confusion_matrix\n",
        "from sklearn.metrics import accuracy_score, precision_score, recall_score, classification_report\n",
        "from sklearn.model_selection import train_test_split\n",
        "from sklearn.preprocessing import LabelEncoder\n",
        "\n",
        "data = pd.read_csv(\"/content/drive/MyDrive/Colab Notebooks/data.csv\")\n",
        "data.head()\n",
        "\n",
        "data = data.drop('Unnamed: 32', axis=1)\n",
        "\n",
        "features = data.drop('diagnosis', axis=1)\n",
        "labels = data['diagnosis']\n",
        "\n",
        "encoder = LabelEncoder()\n",
        "labels = encoder.fit_transform(labels)\n",
        "\n",
        "trainF, testF, trainL, testL = train_test_split(features, labels, test_size=0.2, random_state=7)\n",
        "\n",
        "model = BaggingClassifier()\n",
        "model.fit(trainF, trainL)\n",
        "\n",
        "predicted = model.predict(testF)\n",
        "print('Accuracy {}'.format(accuracy_score(testL, predicted)))\n",
        "print('Precision {}'.format(precision_score(testL, predicted)))\n",
        "print('Recall {}'.format(recall_score(testL, predicted)))\n",
        "print(classification_report(testL, predicted))"
      ],
      "metadata": {
        "colab": {
          "base_uri": "https://localhost:8080/"
        },
        "id": "7uV-1b7zPy_h",
        "outputId": "953a643d-8ab4-41f7-d4b5-42461d1a9ca2"
      },
      "execution_count": null,
      "outputs": [
        {
          "output_type": "stream",
          "name": "stdout",
          "text": [
            "Accuracy 0.956140350877193\n",
            "Precision 1.0\n",
            "Recall 0.875\n",
            "              precision    recall  f1-score   support\n",
            "\n",
            "           0       0.94      1.00      0.97        74\n",
            "           1       1.00      0.88      0.93        40\n",
            "\n",
            "    accuracy                           0.96       114\n",
            "   macro avg       0.97      0.94      0.95       114\n",
            "weighted avg       0.96      0.96      0.96       114\n",
            "\n"
          ]
        }
      ]
    },
    {
      "cell_type": "code",
      "source": [
        "from sklearn.ensemble import AdaBoostClassifier\n",
        "from sklearn.tree import DecisionTreeClassifier\n",
        "from sklearn.ensemble import BaggingClassifier\n",
        "import pandas as pd\n",
        "import numpy as np\n",
        "import matplotlib.pyplot as plt\n",
        "from sklearn.metrics import confusion_matrix\n",
        "from sklearn.metrics import accuracy_score, precision_score, recall_score, classification_report\n",
        "from sklearn.model_selection import train_test_split\n",
        "from sklearn.preprocessing import LabelEncoder\n",
        "\n",
        "data = pd.read_csv(\"/content/drive/MyDrive/Colab Notebooks/data.csv\")\n",
        "data.head()\n",
        "\n",
        "data = data.drop('Unnamed: 32', axis=1)\n",
        "\n",
        "features = data.drop('diagnosis', axis=1)\n",
        "labels = data['diagnosis']\n",
        "\n",
        "encoder = LabelEncoder()\n",
        "labels = encoder.fit_transform(labels)\n",
        "\n",
        "trainF, testF, trainL, testL = train_test_split(features, labels, test_size=0.2, random_state=7)\n",
        "\n",
        "model = AdaBoostClassifier()\n",
        "model.fit(trainF, trainL)\n",
        "\n",
        "predicted = model.predict(testF)\n",
        "print('Accuracy {}'.format(accuracy_score(testL, predicted)))\n",
        "print('Precision {}'.format(precision_score(testL, predicted)))\n",
        "print('Recall {}'.format(recall_score(testL, predicted)))\n",
        "print(classification_report(testL, predicted))"
      ],
      "metadata": {
        "colab": {
          "base_uri": "https://localhost:8080/"
        },
        "id": "dxxaysdqSm5o",
        "outputId": "1baae070-6036-439b-eb1b-72db5fdaaf98"
      },
      "execution_count": null,
      "outputs": [
        {
          "output_type": "stream",
          "name": "stdout",
          "text": [
            "Accuracy 0.9736842105263158\n",
            "Precision 0.9743589743589743\n",
            "Recall 0.95\n",
            "              precision    recall  f1-score   support\n",
            "\n",
            "           0       0.97      0.99      0.98        74\n",
            "           1       0.97      0.95      0.96        40\n",
            "\n",
            "    accuracy                           0.97       114\n",
            "   macro avg       0.97      0.97      0.97       114\n",
            "weighted avg       0.97      0.97      0.97       114\n",
            "\n"
          ]
        }
      ]
    },
    {
      "cell_type": "code",
      "source": [
        "from sklearn.ensemble import AdaBoostRegressor\n",
        "import pandas as pd\n",
        "import numpy as np\n",
        "import matplotlib.pyplot as plt\n",
        "from sklearn.metrics import confusion_matrix\n",
        "from sklearn.metrics import accuracy_score, precision_score, recall_score, classification_report\n",
        "from sklearn.model_selection import train_test_split\n",
        "from sklearn.preprocessing import LabelEncoder\n",
        "from torch.nn.functional import mse_loss\n",
        "\n",
        "data = pd.read_csv(\"/content/drive/MyDrive/Colab Notebooks/diabetes.csv\")\n",
        "data.head()\n",
        "\n",
        "features = data.drop('Outcome', axis=1)\n",
        "labels = data['Outcome']\n",
        "\n",
        "trainF, testF, trainL, testL = train_test_split(features, labels, test_size=0.1, random_state=7)\n",
        "\n",
        "model = AdaBoostRegressor(learning_rate=0.00001, random_state=132)\n",
        "model.fit(trainF, trainL)\n",
        "\n",
        "predicted = model.predict(testF)\n",
        "for i in range(len(predicted)):\n",
        "  if predicted[i] >= 0.5:\n",
        "    predicted[i] = 1\n",
        "  else:\n",
        "    predicted[i] = 0\n",
        "\n",
        "loss = 0\n",
        "\n",
        "testLabels = np.array(testL)\n",
        "\n",
        "for i in range(len(testLabels)):\n",
        "  loss += ((predicted[i] - testLabels[i]) ** 2)\n",
        "loss /= len(testLabels)\n",
        "\n",
        "print('Loss: ', loss, '\\n')\n",
        "print('Accuracy {}'.format(accuracy_score(testL, predicted)))\n",
        "print('Precision {}'.format(precision_score(testL, predicted)))\n",
        "print('Recall {}'.format(recall_score(testL, predicted)))\n",
        "print(classification_report(testL, predicted))"
      ],
      "metadata": {
        "colab": {
          "base_uri": "https://localhost:8080/"
        },
        "id": "OozLw5GzCSp3",
        "outputId": "e5704395-0852-406c-f136-8a60a16c3586"
      },
      "execution_count": null,
      "outputs": [
        {
          "output_type": "stream",
          "name": "stdout",
          "text": [
            "Loss:  0.18181818181818182 \n",
            "\n",
            "Accuracy 0.8181818181818182\n",
            "Precision 0.8148148148148148\n",
            "Recall 0.7096774193548387\n",
            "              precision    recall  f1-score   support\n",
            "\n",
            "           0       0.82      0.89      0.85        46\n",
            "           1       0.81      0.71      0.76        31\n",
            "\n",
            "    accuracy                           0.82        77\n",
            "   macro avg       0.82      0.80      0.81        77\n",
            "weighted avg       0.82      0.82      0.82        77\n",
            "\n"
          ]
        }
      ]
    },
    {
      "cell_type": "code",
      "source": [
        "import numpy as np\n",
        "import pandas as pd\n",
        "from sklearn.model_selection import train_test_split\n",
        "from sklearn.linear_model import LinearRegression\n",
        "from sklearn.ensemble import RandomForestRegressor\n",
        "from sklearn.svm import SVR\n",
        "from sklearn.metrics import mean_squared_error\n",
        "\n",
        "# Load the data\n",
        "df = pd.read_csv('/content/Contrete.csv')\n",
        "X = df.iloc[:, :-1]\n",
        "y = df.iloc[:, -1]\n",
        "# print(X)\n",
        "# print(\"-----------=======---------\")\n",
        "# print(y)\n",
        "\n",
        "# Split the data into training and testing sets\n",
        "X_train, X_test, y_train, y_test = train_test_split(X, y, test_size=0.01, random_state=0)\n",
        "\n",
        "# print(X_test)\n",
        "\n",
        "# Train base models\n",
        "lr = LinearRegression()\n",
        "lr.fit(X_train, y_train)\n",
        "\n",
        "rf = RandomForestRegressor()\n",
        "rf.fit(X_train, y_train)\n",
        "\n",
        "svr = SVR()\n",
        "svr.fit(X_train, y_train)\n",
        "\n",
        "# Make predictions with base models\n",
        "lr_pred = lr.predict(X_test)\n",
        "rf_pred = rf.predict(X_test)\n",
        "svr_pred = svr.predict(X_test)\n",
        "\n",
        "# Combine the predictions from base models\n",
        "meta_features = np.column_stack((lr_pred, rf_pred, svr_pred))\n",
        "\n",
        "# Train a meta-model using the combined predictions\n",
        "meta_model = LinearRegression()\n",
        "meta_model.fit(meta_features, y_test)\n",
        "\n",
        "# Make final predictions with the meta-model\n",
        "final_pred = meta_model.predict(meta_features)\n",
        "# print(y_test)\n",
        "# print(\"-----------------------------------------------------------------------\")\n",
        "# print(final_pred)\n",
        "\n",
        "# Evaluate the performance of the final model\n",
        "print(\"Mean Squared Error: \", mean_squared_error(y_test, final_pred))"
      ],
      "metadata": {
        "colab": {
          "base_uri": "https://localhost:8080/"
        },
        "id": "yBxSK9vBiyBu",
        "outputId": "bb8b452a-49b3-490a-93b7-def2aa5b413e"
      },
      "execution_count": 2,
      "outputs": [
        {
          "output_type": "stream",
          "name": "stdout",
          "text": [
            "Mean Squared Error:  29.608981758457823\n"
          ]
        }
      ]
    },
    {
      "cell_type": "code",
      "source": [],
      "metadata": {
        "id": "bnKQP6fyi9Rj"
      },
      "execution_count": null,
      "outputs": []
    }
  ]
}