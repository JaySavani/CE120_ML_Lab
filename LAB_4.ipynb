{
  "cells": [
    {
      "cell_type": "markdown",
      "metadata": {
        "id": "view-in-github",
        "colab_type": "text"
      },
      "source": [
        "<a href=\"https://colab.research.google.com/github/JaySavani/ML_Lab/blob/main/LAB_4.ipynb\" target=\"_parent\"><img src=\"https://colab.research.google.com/assets/colab-badge.svg\" alt=\"Open In Colab\"/></a>"
      ]
    },
    {
      "cell_type": "code",
      "execution_count": null,
      "metadata": {
        "colab": {
          "base_uri": "https://localhost:8080/"
        },
        "id": "r1nt8BLCnfPK",
        "outputId": "fa7a2951-4b93-4b25-8766-99efc6927e56"
      },
      "outputs": [
        {
          "output_type": "stream",
          "name": "stderr",
          "text": [
            "<ipython-input-7-776ca5287110>:26: UserWarning: To copy construct from a tensor, it is recommended to use sourceTensor.clone().detach() or sourceTensor.clone().detach().requires_grad_(True), rather than torch.tensor(sourceTensor).\n",
            "  inputs = torch.tensor(inputs)\n",
            "<ipython-input-7-776ca5287110>:27: UserWarning: To copy construct from a tensor, it is recommended to use sourceTensor.clone().detach() or sourceTensor.clone().detach().requires_grad_(True), rather than torch.tensor(sourceTensor).\n",
            "  targets = torch.tensor(targets)\n"
          ]
        },
        {
          "output_type": "stream",
          "name": "stdout",
          "text": [
            "Parameter containing:\n",
            "tensor([[ 0.4583,  0.1196, -0.4748]], requires_grad=True)\n",
            "Parameter containing:\n",
            "tensor([-0.2859], requires_grad=True)\n",
            "tensor([37.0237], grad_fn=<AddBackward0>)\n"
          ]
        }
      ],
      "source": [
        "import numpy as np\n",
        "import pandas as pd\n",
        "import torch\n",
        "from torch.utils.data import TensorDataset, DataLoader\n",
        "import torch.optim as optim\n",
        "import torch.nn.functional as F\n",
        "\n",
        "inputs = np.array([[73, 67, 43],\n",
        "          [91, 88, 64],\n",
        "          [87, 134, 58],\n",
        "          [102, 43, 37],\n",
        "          [69, 96, 70]], dtype='float32')\n",
        "\n",
        "targets = np.array([[56],\n",
        "            [81],\n",
        "            [119],\n",
        "            [22],\n",
        "            [103]], dtype='float32')\n",
        "\n",
        "weight = np.array([12, 3, 9])\n",
        "bias = [4]\n",
        "\n",
        "inputs = torch.from_numpy(inputs)\n",
        "targets = torch.from_numpy(targets)\n",
        "\n",
        "inputs = torch.tensor(inputs)\n",
        "targets = torch.tensor(targets)\n",
        "\n",
        "dataset = TensorDataset(inputs, targets)\n",
        "loader = DataLoader(dataset)\n",
        "\n",
        "\n",
        "def calculate(instanceCount, model, loss_fn, optimizer):\n",
        "  for i in range(instanceCount):\n",
        "    for inp, targ in dataset:\n",
        "      output = model(inp)\n",
        "      loss = loss_fn(output, targ)\n",
        "      loss.backward()\n",
        "      optimizer.step()\n",
        "      optimizer.zero_grad()\n",
        "      print(loss);\n",
        "      ret\n",
        "\n",
        "# print(dataset, '\\n', loader)\n",
        "model = torch.nn.Linear(3, 1)\n",
        "optimizer = optim.SGD(model.parameters(), lr=0.0000001)\n",
        "loss_fn = F.mse_loss\n",
        "\n",
        "print(model.weight)\n",
        "print(model.bias)\n",
        "\n",
        "for i in range(1000):\n",
        "  for inputs, targets in dataset:\n",
        "    def closure():\n",
        "      optimizer.zero_grad()\n",
        "      output = model(inputs)\n",
        "      loss = loss_fn(output, targets)\n",
        "      # print(loss)\n",
        "      loss.backward()\n",
        "      return loss\n",
        "    optimizer.step(closure)\n",
        "\n",
        "print(model(torch.tensor([70., 34., 45.])))"
      ]
    },
    {
      "cell_type": "code",
      "source": [
        "import matplotlib.pyplot as plt\n",
        "\n",
        "x = [50, 100, 500, 700, 800, 900, 1000]\n",
        "y = [648.4023, 391.0272, 133.6041, 244.1809, 324.2377, 273.7362, 100.2437]\n",
        "\n",
        "plt.plot(x, y)\n",
        "plt.xlabel('No. of Epochs')\n",
        "plt.ylabel('Loss')\n",
        "plt.title('Epochs vs Loss')\n",
        "  \n",
        "# function to show the plot\n",
        "plt.show()"
      ],
      "metadata": {
        "colab": {
          "base_uri": "https://localhost:8080/",
          "height": 295
        },
        "id": "8UM9xOJnGXmw",
        "outputId": "8e432962-cde5-43f6-fe47-bf57fbf79fa0"
      },
      "execution_count": null,
      "outputs": [
        {
          "output_type": "display_data",
          "data": {
            "text/plain": [
              "<Figure size 432x288 with 1 Axes>"
            ],
            "image/png": "[encoded data removed]"
          },
          "metadata": {
            "needs_background": "light"
          }
        }
      ]
    },
    {
      "cell_type": "code",
      "source": [],
      "metadata": {
        "id": "9lsjveJVGwq5"
      },
      "execution_count": null,
      "outputs": []
    }
  ],
  "metadata": {
    "colab": {
      "provenance": [],
      "include_colab_link": true
    },
    "kernelspec": {
      "display_name": "Python 3",
      "name": "python3"
    },
    "language_info": {
      "name": "python"
    }
  },
  "nbformat": 4,
  "nbformat_minor": 0
}