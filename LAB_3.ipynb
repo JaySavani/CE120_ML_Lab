{
  "nbformat": 4,
  "nbformat_minor": 0,
  "metadata": {
    "colab": {
      "provenance": [],
      "authorship_tag": "ABX9TyNiQuBXU/U3km9ykABuYJ0X",
      "include_colab_link": true
    },
    "kernelspec": {
      "name": "python3",
      "display_name": "Python 3"
    },
    "language_info": {
      "name": "python"
    }
  },
  "cells": [
    {
      "cell_type": "markdown",
      "metadata": {
        "id": "view-in-github",
        "colab_type": "text"
      },
      "source": [
        "<a href=\"https://colab.research.google.com/github/JaySavani/ML_Lab/blob/main/LAB_3.ipynb\" target=\"_parent\"><img src=\"https://colab.research.google.com/assets/colab-badge.svg\" alt=\"Open In Colab\"/></a>"
      ]
    },
    {
      "cell_type": "code",
      "execution_count": null,
      "metadata": {
        "colab": {
          "base_uri": "https://localhost:8080/"
        },
        "id": "X8efpEBbCN3v",
        "outputId": "13ea3758-4056-471f-d437-b90b31d9519e"
      },
      "outputs": [
        {
          "output_type": "stream",
          "name": "stdout",
          "text": [
            "Accuracy: 33.33%\n",
            "Precision: 11.11%\n",
            "Recall: 33.33%\n",
            "Probability estimates: \n",
            "[[0. 1.]\n",
            " [0. 1.]\n",
            " [0. 1.]]\n"
          ]
        },
        {
          "output_type": "stream",
          "name": "stderr",
          "text": [
            "/usr/local/lib/python3.8/dist-packages/sklearn/utils/deprecation.py:87: FutureWarning: Function get_feature_names is deprecated; get_feature_names is deprecated in 1.0 and will be removed in 1.2. Please use get_feature_names_out instead.\n",
            "  warnings.warn(msg, category=FutureWarning)\n",
            "/usr/local/lib/python3.8/dist-packages/sklearn/metrics/_classification.py:1318: UndefinedMetricWarning: Precision is ill-defined and being set to 0.0 in labels with no predicted samples. Use `zero_division` parameter to control this behavior.\n",
            "  _warn_prf(average, modifier, msg_start, len(result))\n"
          ]
        }
      ],
      "source": [
        "#Task-1\n",
        "import pandas as pd\n",
        "from sklearn.model_selection import train_test_split\n",
        "from sklearn.naive_bayes import GaussianNB\n",
        "from sklearn.preprocessing import OneHotEncoder\n",
        "from sklearn.metrics import accuracy_score, precision_score, recall_score\n",
        "\n",
        "# Load the CSV dataset into a Pandas DataFrame\n",
        "data = pd.read_csv(\"/content/Dataset3.csv\")\n",
        "\n",
        "# One-hot encode the categorical features\n",
        "cat_features = ['Outlook', 'Temp', 'Wind','Humidity']\n",
        "enc = OneHotEncoder(sparse=False)\n",
        "data_encoded = pd.DataFrame(enc.fit_transform(data[cat_features]))\n",
        "data_encoded.columns = enc.get_feature_names(cat_features)\n",
        "\n",
        "# Concatenate the one-hot encoded features with the numeric features\n",
        "data = pd.concat([data.drop(cat_features, axis=1), data_encoded], axis=1)\n",
        "\n",
        "# Split the data into training and testing sets\n",
        "X = data.drop('Class', axis=1)\n",
        "y = data['Class']\n",
        "X_train, X_test, y_train, y_test = train_test_split(X, y, test_size=0.15, random_state=120)\n",
        "\n",
        "# Fit the Naive Bayes classifier to the training data\n",
        "nb = GaussianNB()\n",
        "nb.fit(X_train, y_train)\n",
        "\n",
        "# Predict the target variable for the testing data\n",
        "y_pred = nb.predict(X_test)\n",
        "\n",
        "# Calculate accuracy, precision, and recall\n",
        "accuracy = accuracy_score(y_test, y_pred)\n",
        "precision = precision_score(y_test, y_pred, average='weighted')\n",
        "recall = recall_score(y_test, y_pred, average='weighted')\n",
        "\n",
        "# Print the results\n",
        "print(\"Accuracy: {:.2f}%\".format(accuracy * 100))\n",
        "print(\"Precision: {:.2f}%\".format(precision * 100))\n",
        "print(\"Recall: {:.2f}%\".format(recall * 100))\n",
        "\n",
        "y_prob = nb.predict_proba(X_test)\n",
        "print(\"Probability estimates: \")\n",
        "print(y_prob)\n"
      ]
    },
    {
      "cell_type": "code",
      "source": [
        "# Task-2\n",
        "from sklearn.datasets import load_wine\n",
        "from sklearn.model_selection import train_test_split\n",
        "from sklearn.naive_bayes import GaussianNB\n",
        "from sklearn.preprocessing import LabelEncoder\n",
        "\n",
        "# Load the wine dataset\n",
        "data = load_wine()\n",
        "\n",
        "# Separate the features and target\n",
        "X = data.data\n",
        "y = data.target\n",
        "\n",
        "# Encode the target labels\n",
        "le = LabelEncoder()\n",
        "y = le.fit_transform(y)\n",
        "\n",
        "# Split the data into training and testing sets\n",
        "X_train, X_test, y_train, y_test = train_test_split(X, y, test_size=0.34, random_state=120)\n",
        "\n",
        "# Create a Gaussian Naive Bayes classifier and fit it on the training data\n",
        "clf = GaussianNB()\n",
        "clf.fit(X_train, y_train)\n",
        "\n",
        "# Predict the target labels of the test data using the trained classifier\n",
        "y_pred = clf.predict(X_test)\n",
        "\n",
        "# Calculate the accuracy, precision, and recall of the classifier\n",
        "from sklearn.metrics import accuracy_score, precision_score, recall_score\n",
        "\n",
        "accuracy = accuracy_score(y_test, y_pred)\n",
        "precision = precision_score(y_test, y_pred, average='weighted')\n",
        "recall = recall_score(y_test, y_pred, average='weighted')\n",
        "\n",
        "print(\"Accuracy:\", accuracy)\n",
        "print(\"Precision:\", precision)\n",
        "print(\"Recall:\", recall)\n",
        "\n"
      ],
      "metadata": {
        "colab": {
          "base_uri": "https://localhost:8080/"
        },
        "id": "Bhu5AvA9ChQd",
        "outputId": "22e12cff-a27a-463b-b9d3-6c3c18a3cdac"
      },
      "execution_count": null,
      "outputs": [
        {
          "output_type": "stream",
          "name": "stdout",
          "text": [
            "Accuracy: 0.9836065573770492\n",
            "Precision: 0.9846994535519125\n",
            "Recall: 0.9836065573770492\n"
          ]
        }
      ]
    },
    {
      "cell_type": "code",
      "source": [],
      "metadata": {
        "id": "K6MLknBTCtg2"
      },
      "execution_count": null,
      "outputs": []
    }
  ]
}